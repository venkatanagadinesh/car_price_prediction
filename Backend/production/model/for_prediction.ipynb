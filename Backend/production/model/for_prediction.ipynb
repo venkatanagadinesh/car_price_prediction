{
 "cells": [
  {
   "cell_type": "code",
   "execution_count": 92,
   "metadata": {
    "_cell_guid": "79c7e3d0-c299-4dcb-8224-4455121ee9b0",
    "_uuid": "d629ff2d2480ee46fbb7e2d37f6b5fab8052498a"
   },
   "outputs": [
    {
     "name": "stderr",
     "output_type": "stream",
     "text": [
      "[nltk_data] Downloading package stopwords to\n",
      "[nltk_data]     C:\\Users\\prana\\AppData\\Roaming\\nltk_data...\n",
      "[nltk_data]   Package stopwords is already up-to-date!\n"
     ]
    }
   ],
   "source": [
    "import pandas as pd\n",
    "import numpy as np\n",
    "from sklearn.model_selection import train_test_split\n",
    "\n",
    "import matplotlib.pyplot as plt\n",
    "import seaborn as sns\n",
    "sns.set_palette(\"tab10\")\n",
    "import plotly.graph_objs as go\n",
    "import plotly.express as px\n",
    "\n",
    "import category_encoders as ce\n",
    "\n",
    "import re\n",
    "import nltk\n",
    "from nltk.corpus import stopwords\n",
    "nltk.download('stopwords')\n",
    "\n",
    "\n",
    "import warnings\n",
    "warnings.filterwarnings('ignore')"
   ]
  },
  {
   "cell_type": "code",
   "execution_count": 93,
   "metadata": {},
   "outputs": [
    {
     "name": "stdout",
     "output_type": "stream",
     "text": [
      "Dataframe has 4282 rows and 8 columns\n"
     ]
    },
    {
     "data": {
      "text/html": [
       "<div>\n",
       "<style scoped>\n",
       "    .dataframe tbody tr th:only-of-type {\n",
       "        vertical-align: middle;\n",
       "    }\n",
       "\n",
       "    .dataframe tbody tr th {\n",
       "        vertical-align: top;\n",
       "    }\n",
       "\n",
       "    .dataframe thead th {\n",
       "        text-align: right;\n",
       "    }\n",
       "</style>\n",
       "<table border=\"1\" class=\"dataframe\">\n",
       "  <thead>\n",
       "    <tr style=\"text-align: right;\">\n",
       "      <th></th>\n",
       "      <th>name</th>\n",
       "      <th>year</th>\n",
       "      <th>selling_price</th>\n",
       "      <th>km_driven</th>\n",
       "      <th>fuel</th>\n",
       "      <th>seller_type</th>\n",
       "      <th>transmission</th>\n",
       "      <th>owner</th>\n",
       "    </tr>\n",
       "  </thead>\n",
       "  <tbody>\n",
       "    <tr>\n",
       "      <td>0</td>\n",
       "      <td>Maruti 800 AC</td>\n",
       "      <td>2007</td>\n",
       "      <td>60000</td>\n",
       "      <td>70000</td>\n",
       "      <td>Petrol</td>\n",
       "      <td>Individual</td>\n",
       "      <td>Manual</td>\n",
       "      <td>First Owner</td>\n",
       "    </tr>\n",
       "    <tr>\n",
       "      <td>1</td>\n",
       "      <td>Maruti Wagon R LXI Minor</td>\n",
       "      <td>2007</td>\n",
       "      <td>135000</td>\n",
       "      <td>50000</td>\n",
       "      <td>Petrol</td>\n",
       "      <td>Individual</td>\n",
       "      <td>Manual</td>\n",
       "      <td>First Owner</td>\n",
       "    </tr>\n",
       "    <tr>\n",
       "      <td>2</td>\n",
       "      <td>Hyundai Verna 1.6 SX</td>\n",
       "      <td>2012</td>\n",
       "      <td>600000</td>\n",
       "      <td>100000</td>\n",
       "      <td>Diesel</td>\n",
       "      <td>Individual</td>\n",
       "      <td>Manual</td>\n",
       "      <td>First Owner</td>\n",
       "    </tr>\n",
       "    <tr>\n",
       "      <td>3</td>\n",
       "      <td>Datsun RediGO T Option</td>\n",
       "      <td>2017</td>\n",
       "      <td>250000</td>\n",
       "      <td>46000</td>\n",
       "      <td>Petrol</td>\n",
       "      <td>Individual</td>\n",
       "      <td>Manual</td>\n",
       "      <td>First Owner</td>\n",
       "    </tr>\n",
       "    <tr>\n",
       "      <td>4</td>\n",
       "      <td>Honda Amaze VX i-DTEC</td>\n",
       "      <td>2014</td>\n",
       "      <td>450000</td>\n",
       "      <td>141000</td>\n",
       "      <td>Diesel</td>\n",
       "      <td>Individual</td>\n",
       "      <td>Manual</td>\n",
       "      <td>Second Owner</td>\n",
       "    </tr>\n",
       "  </tbody>\n",
       "</table>\n",
       "</div>"
      ],
      "text/plain": [
       "                       name  year  selling_price  km_driven    fuel  \\\n",
       "0             Maruti 800 AC  2007          60000      70000  Petrol   \n",
       "1  Maruti Wagon R LXI Minor  2007         135000      50000  Petrol   \n",
       "2      Hyundai Verna 1.6 SX  2012         600000     100000  Diesel   \n",
       "3    Datsun RediGO T Option  2017         250000      46000  Petrol   \n",
       "4     Honda Amaze VX i-DTEC  2014         450000     141000  Diesel   \n",
       "\n",
       "  seller_type transmission         owner  \n",
       "0  Individual       Manual   First Owner  \n",
       "1  Individual       Manual   First Owner  \n",
       "2  Individual       Manual   First Owner  \n",
       "3  Individual       Manual   First Owner  \n",
       "4  Individual       Manual  Second Owner  "
      ]
     },
     "execution_count": 93,
     "metadata": {},
     "output_type": "execute_result"
    }
   ],
   "source": [
    "# reading .csv file\n",
    "df=pd.read_csv(\"CAR DETAILS FROM CAR DEKHO.csv\")\n",
    "print('Dataframe has {} rows and {} columns'.format(df.shape[0],df.shape[1]))\n",
    "df.head()"
   ]
  },
  {
   "cell_type": "markdown",
   "metadata": {},
   "source": [
    "creating two new columns to save brand and car name"
   ]
  },
  {
   "cell_type": "code",
   "execution_count": 94,
   "metadata": {},
   "outputs": [
    {
     "data": {
      "text/html": [
       "<div>\n",
       "<style scoped>\n",
       "    .dataframe tbody tr th:only-of-type {\n",
       "        vertical-align: middle;\n",
       "    }\n",
       "\n",
       "    .dataframe tbody tr th {\n",
       "        vertical-align: top;\n",
       "    }\n",
       "\n",
       "    .dataframe thead th {\n",
       "        text-align: right;\n",
       "    }\n",
       "</style>\n",
       "<table border=\"1\" class=\"dataframe\">\n",
       "  <thead>\n",
       "    <tr style=\"text-align: right;\">\n",
       "      <th></th>\n",
       "      <th>name</th>\n",
       "      <th>year</th>\n",
       "      <th>selling_price</th>\n",
       "      <th>km_driven</th>\n",
       "      <th>fuel</th>\n",
       "      <th>seller_type</th>\n",
       "      <th>transmission</th>\n",
       "      <th>owner</th>\n",
       "      <th>brand</th>\n",
       "      <th>car</th>\n",
       "    </tr>\n",
       "  </thead>\n",
       "  <tbody>\n",
       "    <tr>\n",
       "      <td>0</td>\n",
       "      <td>Maruti 800 AC</td>\n",
       "      <td>2007</td>\n",
       "      <td>60000</td>\n",
       "      <td>70000</td>\n",
       "      <td>Petrol</td>\n",
       "      <td>Individual</td>\n",
       "      <td>Manual</td>\n",
       "      <td>First Owner</td>\n",
       "      <td>Maruti</td>\n",
       "      <td>800 AC</td>\n",
       "    </tr>\n",
       "    <tr>\n",
       "      <td>1</td>\n",
       "      <td>Maruti Wagon R LXI Minor</td>\n",
       "      <td>2007</td>\n",
       "      <td>135000</td>\n",
       "      <td>50000</td>\n",
       "      <td>Petrol</td>\n",
       "      <td>Individual</td>\n",
       "      <td>Manual</td>\n",
       "      <td>First Owner</td>\n",
       "      <td>Maruti</td>\n",
       "      <td>Wagon R LXI Minor</td>\n",
       "    </tr>\n",
       "    <tr>\n",
       "      <td>2</td>\n",
       "      <td>Hyundai Verna 1.6 SX</td>\n",
       "      <td>2012</td>\n",
       "      <td>600000</td>\n",
       "      <td>100000</td>\n",
       "      <td>Diesel</td>\n",
       "      <td>Individual</td>\n",
       "      <td>Manual</td>\n",
       "      <td>First Owner</td>\n",
       "      <td>Hyundai</td>\n",
       "      <td>Verna 1.6 SX</td>\n",
       "    </tr>\n",
       "    <tr>\n",
       "      <td>3</td>\n",
       "      <td>Datsun RediGO T Option</td>\n",
       "      <td>2017</td>\n",
       "      <td>250000</td>\n",
       "      <td>46000</td>\n",
       "      <td>Petrol</td>\n",
       "      <td>Individual</td>\n",
       "      <td>Manual</td>\n",
       "      <td>First Owner</td>\n",
       "      <td>Datsun</td>\n",
       "      <td>RediGO T Option</td>\n",
       "    </tr>\n",
       "    <tr>\n",
       "      <td>4</td>\n",
       "      <td>Honda Amaze VX i-DTEC</td>\n",
       "      <td>2014</td>\n",
       "      <td>450000</td>\n",
       "      <td>141000</td>\n",
       "      <td>Diesel</td>\n",
       "      <td>Individual</td>\n",
       "      <td>Manual</td>\n",
       "      <td>Second Owner</td>\n",
       "      <td>Honda</td>\n",
       "      <td>Amaze VX i-DTEC</td>\n",
       "    </tr>\n",
       "  </tbody>\n",
       "</table>\n",
       "</div>"
      ],
      "text/plain": [
       "                       name  year  selling_price  km_driven    fuel  \\\n",
       "0             Maruti 800 AC  2007          60000      70000  Petrol   \n",
       "1  Maruti Wagon R LXI Minor  2007         135000      50000  Petrol   \n",
       "2      Hyundai Verna 1.6 SX  2012         600000     100000  Diesel   \n",
       "3    Datsun RediGO T Option  2017         250000      46000  Petrol   \n",
       "4     Honda Amaze VX i-DTEC  2014         450000     141000  Diesel   \n",
       "\n",
       "  seller_type transmission         owner    brand                car  \n",
       "0  Individual       Manual   First Owner   Maruti             800 AC  \n",
       "1  Individual       Manual   First Owner   Maruti  Wagon R LXI Minor  \n",
       "2  Individual       Manual   First Owner  Hyundai       Verna 1.6 SX  \n",
       "3  Individual       Manual   First Owner   Datsun    RediGO T Option  \n",
       "4  Individual       Manual  Second Owner    Honda    Amaze VX i-DTEC  "
      ]
     },
     "execution_count": 94,
     "metadata": {},
     "output_type": "execute_result"
    }
   ],
   "source": [
    "df['brand']=df['name'].apply(lambda x: ' '.join(x.split(' ')[:2]) if 'Land' in x else x.split(' ')[0])\n",
    "df['car']=df['name'].apply(lambda x: ' '.join(x.split(' ')[2:]) if 'Land' in x else ' '.join(x.split(' ')[1:]))\n",
    "df.head()"
   ]
  },
  {
   "cell_type": "code",
   "execution_count": 95,
   "metadata": {},
   "outputs": [],
   "source": [
    "#list of all brands and cars\n",
    "brands=list(df['brand'].unique())\n",
    "cars=list(df['car'].unique())"
   ]
  },
  {
   "cell_type": "code",
   "execution_count": 96,
   "metadata": {},
   "outputs": [
    {
     "data": {
      "text/plain": [
       "['Alto LX BSIII',\n",
       " 'Wagon R VXI BS IV with ABS',\n",
       " 'Wagon R VXI BS IV',\n",
       " 'Eeco 5 Seater AC BSIV',\n",
       " 'Omni Maruti Omni MPI STD BSIII 5-STR W/ IMMOBILISER']"
      ]
     },
     "execution_count": 96,
     "metadata": {},
     "output_type": "execute_result"
    }
   ],
   "source": [
    "bharat_stage= [text for idx,text in enumerate(cars) if \"BS\" in text]\n",
    "bharat_stage[:5]"
   ]
  },
  {
   "cell_type": "markdown",
   "metadata": {},
   "source": [
    "### Cleaning the data\n",
    "few car names have bharat stage emission standards in them, which are creating duplicate values.\n",
    "cleaning the text to get accurate results"
   ]
  },
  {
   "cell_type": "code",
   "execution_count": 97,
   "metadata": {},
   "outputs": [
    {
     "data": {
      "text/html": [
       "<div>\n",
       "<style scoped>\n",
       "    .dataframe tbody tr th:only-of-type {\n",
       "        vertical-align: middle;\n",
       "    }\n",
       "\n",
       "    .dataframe tbody tr th {\n",
       "        vertical-align: top;\n",
       "    }\n",
       "\n",
       "    .dataframe thead th {\n",
       "        text-align: right;\n",
       "    }\n",
       "</style>\n",
       "<table border=\"1\" class=\"dataframe\">\n",
       "  <thead>\n",
       "    <tr style=\"text-align: right;\">\n",
       "      <th></th>\n",
       "      <th>name</th>\n",
       "      <th>year</th>\n",
       "      <th>selling_price</th>\n",
       "      <th>km_driven</th>\n",
       "      <th>fuel</th>\n",
       "      <th>seller_type</th>\n",
       "      <th>transmission</th>\n",
       "      <th>owner</th>\n",
       "      <th>brand</th>\n",
       "      <th>car</th>\n",
       "    </tr>\n",
       "  </thead>\n",
       "  <tbody>\n",
       "    <tr>\n",
       "      <td>0</td>\n",
       "      <td>Maruti 800 AC</td>\n",
       "      <td>2007</td>\n",
       "      <td>60000</td>\n",
       "      <td>70000</td>\n",
       "      <td>Petrol</td>\n",
       "      <td>Individual</td>\n",
       "      <td>Manual</td>\n",
       "      <td>First Owner</td>\n",
       "      <td>Maruti</td>\n",
       "      <td>800 ac</td>\n",
       "    </tr>\n",
       "    <tr>\n",
       "      <td>1</td>\n",
       "      <td>Maruti Wagon R LXI Minor</td>\n",
       "      <td>2007</td>\n",
       "      <td>135000</td>\n",
       "      <td>50000</td>\n",
       "      <td>Petrol</td>\n",
       "      <td>Individual</td>\n",
       "      <td>Manual</td>\n",
       "      <td>First Owner</td>\n",
       "      <td>Maruti</td>\n",
       "      <td>wagon r lxi minor</td>\n",
       "    </tr>\n",
       "    <tr>\n",
       "      <td>2</td>\n",
       "      <td>Hyundai Verna 1.6 SX</td>\n",
       "      <td>2012</td>\n",
       "      <td>600000</td>\n",
       "      <td>100000</td>\n",
       "      <td>Diesel</td>\n",
       "      <td>Individual</td>\n",
       "      <td>Manual</td>\n",
       "      <td>First Owner</td>\n",
       "      <td>Hyundai</td>\n",
       "      <td>verna 1.6 sx</td>\n",
       "    </tr>\n",
       "    <tr>\n",
       "      <td>3</td>\n",
       "      <td>Datsun RediGO T Option</td>\n",
       "      <td>2017</td>\n",
       "      <td>250000</td>\n",
       "      <td>46000</td>\n",
       "      <td>Petrol</td>\n",
       "      <td>Individual</td>\n",
       "      <td>Manual</td>\n",
       "      <td>First Owner</td>\n",
       "      <td>Datsun</td>\n",
       "      <td>redigo option</td>\n",
       "    </tr>\n",
       "    <tr>\n",
       "      <td>4</td>\n",
       "      <td>Honda Amaze VX i-DTEC</td>\n",
       "      <td>2014</td>\n",
       "      <td>450000</td>\n",
       "      <td>141000</td>\n",
       "      <td>Diesel</td>\n",
       "      <td>Individual</td>\n",
       "      <td>Manual</td>\n",
       "      <td>Second Owner</td>\n",
       "      <td>Honda</td>\n",
       "      <td>amaze vx i-dtec</td>\n",
       "    </tr>\n",
       "  </tbody>\n",
       "</table>\n",
       "</div>"
      ],
      "text/plain": [
       "                       name  year  selling_price  km_driven    fuel  \\\n",
       "0             Maruti 800 AC  2007          60000      70000  Petrol   \n",
       "1  Maruti Wagon R LXI Minor  2007         135000      50000  Petrol   \n",
       "2      Hyundai Verna 1.6 SX  2012         600000     100000  Diesel   \n",
       "3    Datsun RediGO T Option  2017         250000      46000  Petrol   \n",
       "4     Honda Amaze VX i-DTEC  2014         450000     141000  Diesel   \n",
       "\n",
       "  seller_type transmission         owner    brand                car  \n",
       "0  Individual       Manual   First Owner   Maruti             800 ac  \n",
       "1  Individual       Manual   First Owner   Maruti  wagon r lxi minor  \n",
       "2  Individual       Manual   First Owner  Hyundai       verna 1.6 sx  \n",
       "3  Individual       Manual   First Owner   Datsun      redigo option  \n",
       "4  Individual       Manual  Second Owner    Honda    amaze vx i-dtec  "
      ]
     },
     "execution_count": 97,
     "metadata": {},
     "output_type": "execute_result"
    }
   ],
   "source": [
    "def removing_BS(text):\n",
    "    text= re.sub('BS-VI|BS-IV|BS-III|BS-II|BS VI|BS IV|BS III|BS II|BS I|BSVI|BSIV|BSIII|BSII|BS I|','',text)\n",
    "    return text\n",
    "\n",
    "Stopwords=set(stopwords.words('english'))\n",
    "def removing_stopwords(text):\n",
    "    return \" \".join([word for word in str(text).split() if word not in Stopwords])\n",
    "\n",
    "df['car']=df['car'].apply(lambda text: removing_BS(text).lower())\n",
    "df['car']=df['car'].apply(lambda text:removing_stopwords(text))\n",
    "df.head()"
   ]
  },
  {
   "cell_type": "code",
   "execution_count": 98,
   "metadata": {
    "_kg_hide-input": true
   },
   "outputs": [],
   "source": [
    "car_rename={'Maruti':{'alto':'Alto','dzire':'Swift Dzire','swift':'Swift','wagon':'Wagon R','ertiga':'Ertiga','sx4':'SX4',\n",
    "                      'celerio':'Celerio','cross':'S-Cross','zen':'Zen','baleno':'Baleno','eeco':'Eeco','omni':'Omni',\n",
    "                      'star':'A-Star','ritz':'Ritz','esteem':'Esteem','800':'800','vitara':'Brezza','ignis':'Ignis',\n",
    "                      'gypsy':'Gypsy','presso':'S-Presso','ciaz':'Ciaz','estilo':'Estilo'},\n",
    "           'Hyundai':{'elite':'Elite i20','grand':'Grand i10','active':'i20 active','eon':'Eon','santro':'Santro','sonata':'Sonata',\n",
    "                      'i10':'i10','verna':'Verna','i20':'i20','creta':'Creta','xcent':'Xcent','accent':'Accent','getz':'Getz',\n",
    "                      'elantra':'Elantra','venue':'Venue','tucson':'Tucson','santa':'Santa Fe'},\n",
    "           'Datsun':{'redi':'Redigo','plus':'Go Plus','go':'Go'},\n",
    "           'Honda':{'amaze':'Amaze','jazz':'Jazz','city':'City','br-v':'BR-V','wr-v':'WR-V','brio':'Brio','mobilio':'Mobilio',\n",
    "                   'civic':'Civic','accord':'Accord','cr-v':'CR-V','brv':'BR-V'},\n",
    "           'Tata':{'nano':'Nano','vista':'Indica Vista','indigo':'Indigo','indica':'Indica','safari':'Safari','nexon':'Nexon',\n",
    "                  'manza':'Manza','zest':'Zest','sumo':'Sumo','bolt':'Bolt','hexa':'Hexa','tigor':'Tigor','tiago':'Tiago',\n",
    "                  'xenon':'Nexon','harrier':'Harrier','aria':'Aria','altroz':'Altroz','venture':'Venture','spacio':'Sumo','winger':'Winger'},\n",
    "           'Chevrolet':{'beat':'Beat','spark':'Spark','cruze':'Cruze','sail':'Sail','optra':'Optra','aveo':'Aveo','enjoy':'Enjoy',\n",
    "                       'captiva':'Captiva','tavera':'Tavera'},\n",
    "           'Toyota':{'innova':'Innova','fortuner':'Fortuner','etios':'Etios','corolla':'Corolla','camry':'Camry','yaris':'Yaris',\n",
    "                    'qualis':'Qualis'},\n",
    "           'Jaguar':{'xf 3.0 litre':'XF','xf 5.0 litre':'XF','xj 5.0':'XJ','xf 2.2 litre':'XF'},\n",
    "           'Mercedes-Benz':{'c-class':'C-Class','e-class':'E-Class','m-class':'M-Class','b-class':'B-Class',\n",
    "                            's-class':'S-Class','gls':'GLS','gl-class 350':'GL350','b class':'B-Class'},\n",
    "           'Audi':{'a6':'A6','a4':'A4','q3':'Q3','q5':'Q5','a8':'A8','q3':'Q3','q7':'Q7','a5':'A5','rs7':'RS7'},\n",
    "           'Skoda':{'laura':'Laura','rapid':'Rapid','superb':'Superb','octavia':'Octavia','fabia':'Fabia','yeti':'Yeti'},\n",
    "           'BMW':{'x5':'X5','x1':'X1','7 series':'7 Series','5 series':'5 Series','3 series':'3 Series'},\n",
    "           'Mahindra':{'xuv500':'XUV500','bolero':'Bolero','xylo':'Xylo','scorpio':'Scorpio','quanto':'Quanto','verito':'Verito',\n",
    "                      'tuv 300':'TUV 300','kuv':'KUV','thar':'Thar','marazzo':'Marazzo','renault logan':'Verito','jeep':'Jeep',\n",
    "                      'nuvosport':'NuvoSport','alturas':'Alturas','ingenio':'Imperio','xuv300':'XUV300','supro':'Supro'},\n",
    "           'Ford':{'figo':'Figo','ecosport':'EcoSport','endeavour':'Endeavour','fiesta':'Fiesta','freestyle':'Freestyle','ikon':'Ikon',\n",
    "                  'aspire':'Aspire','classic':'Fiesta','fusion':'Fusion'},\n",
    "           'Nissan':{'micra':'Micra','sunny':'Sunny','terrano':'Terrano','evalia':'Evalia','trail':'X-Trail','kicks':'Kicks'},\n",
    "           'Renault':{'kwid':'Kwid','duster':'Duster','scala':'Scala','lodgy':'Lodgy','captur':'Captur','fluence':'Fluence','pulse':'Pulse',\n",
    "                     'triber':'Triber','koleos':'Koleos'},\n",
    "           'Volkswagen':{'polo':'Polo','vento':'Vento','ameo':'Ameo','jetta':'Jetta','crosspolo':'CrossPolo','passat':'Passat'},\n",
    "           'Volvo':{'v40':'V40','xc60':'XC60','xc 90':'XC90'},\n",
    "           'Land Rover':{'discovery':'Discovery','evoque':'Range Rover Evoque','range rover 4.4 diesel lwb vogue':'range rover 4.4'}}"
   ]
  },
  {
   "cell_type": "code",
   "execution_count": 99,
   "metadata": {},
   "outputs": [],
   "source": [
    "# function to rename car names\n",
    "def rename_car(brnd,x):\n",
    "    text=x\n",
    "    temp_dict=car_rename[brnd]\n",
    "    for key,val in temp_dict.items():\n",
    "        if key in text:\n",
    "            text=val\n",
    "            return(text)\n",
    "            break\n",
    "        else:continue\n"
   ]
  },
  {
   "cell_type": "markdown",
   "metadata": {},
   "source": [
    "Renaming the cars, there are a lot of varients in a single model (i.e you have high,medium and lower varients in a given car model)\n",
    "\n",
    "so Swift ZDI, Swift LDI,Swift VDI, all will be renamed to just 'Swift'."
   ]
  },
  {
   "cell_type": "code",
   "execution_count": 100,
   "metadata": {},
   "outputs": [
    {
     "data": {
      "text/html": [
       "<div>\n",
       "<style scoped>\n",
       "    .dataframe tbody tr th:only-of-type {\n",
       "        vertical-align: middle;\n",
       "    }\n",
       "\n",
       "    .dataframe tbody tr th {\n",
       "        vertical-align: top;\n",
       "    }\n",
       "\n",
       "    .dataframe thead th {\n",
       "        text-align: right;\n",
       "    }\n",
       "</style>\n",
       "<table border=\"1\" class=\"dataframe\">\n",
       "  <thead>\n",
       "    <tr style=\"text-align: right;\">\n",
       "      <th></th>\n",
       "      <th>brand</th>\n",
       "      <th>Model</th>\n",
       "      <th>year</th>\n",
       "      <th>vehicle_age</th>\n",
       "      <th>km_driven</th>\n",
       "      <th>fuel</th>\n",
       "      <th>transmission</th>\n",
       "      <th>seller_type</th>\n",
       "      <th>owner</th>\n",
       "      <th>selling_price</th>\n",
       "    </tr>\n",
       "  </thead>\n",
       "  <tbody>\n",
       "    <tr>\n",
       "      <td>0</td>\n",
       "      <td>Maruti</td>\n",
       "      <td>800</td>\n",
       "      <td>2007</td>\n",
       "      <td>13</td>\n",
       "      <td>70000</td>\n",
       "      <td>Petrol</td>\n",
       "      <td>Manual</td>\n",
       "      <td>Individual</td>\n",
       "      <td>First Owner</td>\n",
       "      <td>60000</td>\n",
       "    </tr>\n",
       "    <tr>\n",
       "      <td>1</td>\n",
       "      <td>Maruti</td>\n",
       "      <td>Wagon R</td>\n",
       "      <td>2007</td>\n",
       "      <td>13</td>\n",
       "      <td>50000</td>\n",
       "      <td>Petrol</td>\n",
       "      <td>Manual</td>\n",
       "      <td>Individual</td>\n",
       "      <td>First Owner</td>\n",
       "      <td>135000</td>\n",
       "    </tr>\n",
       "    <tr>\n",
       "      <td>2</td>\n",
       "      <td>Hyundai</td>\n",
       "      <td>Verna</td>\n",
       "      <td>2012</td>\n",
       "      <td>8</td>\n",
       "      <td>100000</td>\n",
       "      <td>Diesel</td>\n",
       "      <td>Manual</td>\n",
       "      <td>Individual</td>\n",
       "      <td>First Owner</td>\n",
       "      <td>600000</td>\n",
       "    </tr>\n",
       "    <tr>\n",
       "      <td>3</td>\n",
       "      <td>Datsun</td>\n",
       "      <td>Redigo</td>\n",
       "      <td>2017</td>\n",
       "      <td>3</td>\n",
       "      <td>46000</td>\n",
       "      <td>Petrol</td>\n",
       "      <td>Manual</td>\n",
       "      <td>Individual</td>\n",
       "      <td>First Owner</td>\n",
       "      <td>250000</td>\n",
       "    </tr>\n",
       "    <tr>\n",
       "      <td>4</td>\n",
       "      <td>Honda</td>\n",
       "      <td>Amaze</td>\n",
       "      <td>2014</td>\n",
       "      <td>6</td>\n",
       "      <td>141000</td>\n",
       "      <td>Diesel</td>\n",
       "      <td>Manual</td>\n",
       "      <td>Individual</td>\n",
       "      <td>Second Owner</td>\n",
       "      <td>450000</td>\n",
       "    </tr>\n",
       "  </tbody>\n",
       "</table>\n",
       "</div>"
      ],
      "text/plain": [
       "     brand    Model  year  vehicle_age  km_driven    fuel transmission  \\\n",
       "0   Maruti      800  2007           13      70000  Petrol       Manual   \n",
       "1   Maruti  Wagon R  2007           13      50000  Petrol       Manual   \n",
       "2  Hyundai    Verna  2012            8     100000  Diesel       Manual   \n",
       "3   Datsun   Redigo  2017            3      46000  Petrol       Manual   \n",
       "4    Honda    Amaze  2014            6     141000  Diesel       Manual   \n",
       "\n",
       "  seller_type         owner  selling_price  \n",
       "0  Individual   First Owner          60000  \n",
       "1  Individual   First Owner         135000  \n",
       "2  Individual   First Owner         600000  \n",
       "3  Individual   First Owner         250000  \n",
       "4  Individual  Second Owner         450000  "
      ]
     },
     "execution_count": 100,
     "metadata": {},
     "output_type": "execute_result"
    }
   ],
   "source": [
    "df['Model']=0\n",
    "col_num=df.columns.get_loc(\"Model\")\n",
    "for idx in range(0,df.shape[0]):\n",
    "    brand=df.iloc[idx]['brand']\n",
    "    car=df.iloc[idx]['car']\n",
    "    df.iloc[idx,col_num]=rename_car(brand,car)\n",
    "    \n",
    "df.drop(['car','name'],axis=1,inplace=True)\n",
    "df['vehicle_age']=2020-df['year']\n",
    "col_order=[  'brand', 'Model','year','vehicle_age', 'km_driven', 'fuel','transmission', 'seller_type', 'owner','selling_price']\n",
    "df=df[col_order]\n",
    "df.head()"
   ]
  },
  {
   "cell_type": "code",
   "execution_count": 101,
   "metadata": {
    "_kg_hide-input": true
   },
   "outputs": [],
   "source": [
    "hatchback=['800','Wagon R','Alto','Celerio','Tigor','i10','Santro','Grand i10','i20','Swift','Indica','Eon',\n",
    "          'Indica Vista','Getz','Elite i20','Brio','Micra','Kwid','Beat','Zen','Baleno','Nano','Figo','Spark',\n",
    "          'Bolt','Fabia','Jazz','Tiago','A-Star','Polo','Ritz','Estilo','Pulse','Ignis','Freestyle','S-Presso',\n",
    "          'Altroz','Redigo','Go Plus','Go','B-Class','V40']\n",
    "sedan=['Verna','Indigo','Corolla','Ciaz','City','A6','Superb','3 Series','Elantra','Swift Dzire','Etios','Civic',\n",
    "      'Rapid','A8','Jetta','A4','SX4','7 Series','Sonata','Cruze','Vento','Esteem','5 Series','Scala','Verito',\n",
    "      'Optra','Manza','Accord','Ikon','Laura','Octavia','Accent','Sunny','A5','Camry','Passat','Fusion','Fluence',\n",
    "      'RS7','Yaris','XF','XJ','C-Class','E-Class','S-Class','M-Class']\n",
    "compact_sedan=['Amaze','Xcent','Sail','Ameo','Zest','Aspire','Aveo','Fiesta']\n",
    "suv=['Q5','Q7','Scorpio','Jeep','XUV500','Bolero','Sumo','Yeti','Endeavour','Safari','Fortuner','BR-V','Tucson',\n",
    "    'X5','Gypsy','Hexa','Captiva','Thar','Alturas','Aria','CR-V','Santa Fe','Koleos','Harrier','X-Trail','GLS','GL350',\n",
    "    'Discovery','Range Rover Evoque','range rover 4.4','XC90','XC60']\n",
    "muv=['Enjoy','Innova','Tavera','Xylo','Ertiga','Quanto','Mobilio','Marazzo','Lodgy','NuvoSport','Evalia','Winger','Qualis']\n",
    "compact_suv=['Creta','Brezza','EcoSport','Terrano','Duster','X1','XUV300','TUV 300','WR-V','Q3','Kicks','Triber']\n",
    "crossover=['Venue','S-Cross','i20 active','KUV','Nexon','Captur']\n",
    "minivan=['Omni','Eeco','Supro','Venture']\n",
    "pickup=['Imperio']\n",
    "\n",
    "vehicle_class={'hatchback':hatchback,'compact_sedan':compact_sedan,'sedan':sedan,\n",
    "               'suv':suv,'compact_suv':compact_suv,'muv':muv,'pickup':pickup,'crossover':crossover,'minivan':minivan}\n"
   ]
  },
  {
   "cell_type": "markdown",
   "metadata": {},
   "source": [
    "grouping the cars into segments of its own.\n",
    "\n",
    "1. Hatchback\n",
    "2. Sedan\n",
    "3. Compact Sedan\n",
    "4. SUV\n",
    "5. Compact SUV\n",
    "6. MUV\n",
    "7. Crossover\n",
    "8. Minivan\n",
    "9. Pickup\n",
    "\n",
    "This gives us more information with respect to other parameters."
   ]
  },
  {
   "cell_type": "code",
   "execution_count": 102,
   "metadata": {},
   "outputs": [
    {
     "data": {
      "text/html": [
       "<div>\n",
       "<style scoped>\n",
       "    .dataframe tbody tr th:only-of-type {\n",
       "        vertical-align: middle;\n",
       "    }\n",
       "\n",
       "    .dataframe tbody tr th {\n",
       "        vertical-align: top;\n",
       "    }\n",
       "\n",
       "    .dataframe thead th {\n",
       "        text-align: right;\n",
       "    }\n",
       "</style>\n",
       "<table border=\"1\" class=\"dataframe\">\n",
       "  <thead>\n",
       "    <tr style=\"text-align: right;\">\n",
       "      <th></th>\n",
       "      <th>brand</th>\n",
       "      <th>Model</th>\n",
       "      <th>year</th>\n",
       "      <th>vehicle_age</th>\n",
       "      <th>km_driven</th>\n",
       "      <th>fuel</th>\n",
       "      <th>transmission</th>\n",
       "      <th>seller_type</th>\n",
       "      <th>owner</th>\n",
       "      <th>selling_price</th>\n",
       "      <th>Class</th>\n",
       "    </tr>\n",
       "  </thead>\n",
       "  <tbody>\n",
       "    <tr>\n",
       "      <td>0</td>\n",
       "      <td>Maruti</td>\n",
       "      <td>800</td>\n",
       "      <td>2007</td>\n",
       "      <td>13</td>\n",
       "      <td>70000</td>\n",
       "      <td>Petrol</td>\n",
       "      <td>Manual</td>\n",
       "      <td>Individual</td>\n",
       "      <td>First Owner</td>\n",
       "      <td>60000</td>\n",
       "      <td>hatchback</td>\n",
       "    </tr>\n",
       "    <tr>\n",
       "      <td>1</td>\n",
       "      <td>Maruti</td>\n",
       "      <td>Wagon R</td>\n",
       "      <td>2007</td>\n",
       "      <td>13</td>\n",
       "      <td>50000</td>\n",
       "      <td>Petrol</td>\n",
       "      <td>Manual</td>\n",
       "      <td>Individual</td>\n",
       "      <td>First Owner</td>\n",
       "      <td>135000</td>\n",
       "      <td>hatchback</td>\n",
       "    </tr>\n",
       "    <tr>\n",
       "      <td>2</td>\n",
       "      <td>Hyundai</td>\n",
       "      <td>Verna</td>\n",
       "      <td>2012</td>\n",
       "      <td>8</td>\n",
       "      <td>100000</td>\n",
       "      <td>Diesel</td>\n",
       "      <td>Manual</td>\n",
       "      <td>Individual</td>\n",
       "      <td>First Owner</td>\n",
       "      <td>600000</td>\n",
       "      <td>sedan</td>\n",
       "    </tr>\n",
       "    <tr>\n",
       "      <td>3</td>\n",
       "      <td>Datsun</td>\n",
       "      <td>Redigo</td>\n",
       "      <td>2017</td>\n",
       "      <td>3</td>\n",
       "      <td>46000</td>\n",
       "      <td>Petrol</td>\n",
       "      <td>Manual</td>\n",
       "      <td>Individual</td>\n",
       "      <td>First Owner</td>\n",
       "      <td>250000</td>\n",
       "      <td>hatchback</td>\n",
       "    </tr>\n",
       "    <tr>\n",
       "      <td>4</td>\n",
       "      <td>Honda</td>\n",
       "      <td>Amaze</td>\n",
       "      <td>2014</td>\n",
       "      <td>6</td>\n",
       "      <td>141000</td>\n",
       "      <td>Diesel</td>\n",
       "      <td>Manual</td>\n",
       "      <td>Individual</td>\n",
       "      <td>Second Owner</td>\n",
       "      <td>450000</td>\n",
       "      <td>compact_sedan</td>\n",
       "    </tr>\n",
       "  </tbody>\n",
       "</table>\n",
       "</div>"
      ],
      "text/plain": [
       "     brand    Model  year  vehicle_age  km_driven    fuel transmission  \\\n",
       "0   Maruti      800  2007           13      70000  Petrol       Manual   \n",
       "1   Maruti  Wagon R  2007           13      50000  Petrol       Manual   \n",
       "2  Hyundai    Verna  2012            8     100000  Diesel       Manual   \n",
       "3   Datsun   Redigo  2017            3      46000  Petrol       Manual   \n",
       "4    Honda    Amaze  2014            6     141000  Diesel       Manual   \n",
       "\n",
       "  seller_type         owner  selling_price          Class  \n",
       "0  Individual   First Owner          60000      hatchback  \n",
       "1  Individual   First Owner         135000      hatchback  \n",
       "2  Individual   First Owner         600000          sedan  \n",
       "3  Individual   First Owner         250000      hatchback  \n",
       "4  Individual  Second Owner         450000  compact_sedan  "
      ]
     },
     "execution_count": 102,
     "metadata": {},
     "output_type": "execute_result"
    }
   ],
   "source": [
    "df['Class']=0\n",
    "col_num=df.columns.get_loc(\"Class\")\n",
    "for idx in range(0,df.shape[0]):\n",
    "    car_name=df.iloc[idx]['Model']\n",
    "    for key,val in vehicle_class.items():\n",
    "        if car_name in val:\n",
    "            df.iloc[idx,col_num]=key\n",
    "df.head()"
   ]
  },
  {
   "cell_type": "markdown",
   "metadata": {},
   "source": [
    "Dropping electric vehicle as it makes only one instance of 4282, which is insignificant."
   ]
  },
  {
   "cell_type": "code",
   "execution_count": 103,
   "metadata": {},
   "outputs": [
    {
     "name": "stdout",
     "output_type": "stream",
     "text": [
      "Diesel      2112\n",
      "Petrol      2106\n",
      "CNG           40\n",
      "LPG           23\n",
      "Electric       1\n",
      "Name: fuel, dtype: int64\n"
     ]
    }
   ],
   "source": [
    "print((df['fuel'].value_counts()))\n",
    "df=df[df['fuel']!='Electric'].reset_index()\n",
    "df.drop('index',axis=1,inplace=True)"
   ]
  },
  {
   "cell_type": "code",
   "execution_count": 104,
   "metadata": {},
   "outputs": [
    {
     "name": "stdout",
     "output_type": "stream",
     "text": [
      "(149, 11) (4132, 11)\n"
     ]
    },
    {
     "data": {
      "text/html": [
       "<div>\n",
       "<style scoped>\n",
       "    .dataframe tbody tr th:only-of-type {\n",
       "        vertical-align: middle;\n",
       "    }\n",
       "\n",
       "    .dataframe tbody tr th {\n",
       "        vertical-align: top;\n",
       "    }\n",
       "\n",
       "    .dataframe thead th {\n",
       "        text-align: right;\n",
       "    }\n",
       "</style>\n",
       "<table border=\"1\" class=\"dataframe\">\n",
       "  <thead>\n",
       "    <tr style=\"text-align: right;\">\n",
       "      <th></th>\n",
       "      <th>brand</th>\n",
       "      <th>Model</th>\n",
       "      <th>year</th>\n",
       "      <th>vehicle_age</th>\n",
       "      <th>km_driven</th>\n",
       "      <th>fuel</th>\n",
       "      <th>transmission</th>\n",
       "      <th>seller_type</th>\n",
       "      <th>owner</th>\n",
       "      <th>selling_price</th>\n",
       "      <th>Class</th>\n",
       "    </tr>\n",
       "  </thead>\n",
       "  <tbody>\n",
       "    <tr>\n",
       "      <td>0</td>\n",
       "      <td>Jaguar</td>\n",
       "      <td>XF</td>\n",
       "      <td>2014</td>\n",
       "      <td>6</td>\n",
       "      <td>28000</td>\n",
       "      <td>Diesel</td>\n",
       "      <td>Automatic</td>\n",
       "      <td>Dealer</td>\n",
       "      <td>First Owner</td>\n",
       "      <td>1964999</td>\n",
       "      <td>sedan</td>\n",
       "    </tr>\n",
       "    <tr>\n",
       "      <td>1</td>\n",
       "      <td>Mercedes-Benz</td>\n",
       "      <td>C-Class</td>\n",
       "      <td>2013</td>\n",
       "      <td>7</td>\n",
       "      <td>59000</td>\n",
       "      <td>Diesel</td>\n",
       "      <td>Automatic</td>\n",
       "      <td>Dealer</td>\n",
       "      <td>First Owner</td>\n",
       "      <td>1425000</td>\n",
       "      <td>sedan</td>\n",
       "    </tr>\n",
       "    <tr>\n",
       "      <td>2</td>\n",
       "      <td>Audi</td>\n",
       "      <td>Q5</td>\n",
       "      <td>2011</td>\n",
       "      <td>9</td>\n",
       "      <td>175900</td>\n",
       "      <td>Diesel</td>\n",
       "      <td>Automatic</td>\n",
       "      <td>Dealer</td>\n",
       "      <td>First Owner</td>\n",
       "      <td>1190000</td>\n",
       "      <td>suv</td>\n",
       "    </tr>\n",
       "    <tr>\n",
       "      <td>3</td>\n",
       "      <td>Audi</td>\n",
       "      <td>A6</td>\n",
       "      <td>2013</td>\n",
       "      <td>7</td>\n",
       "      <td>50000</td>\n",
       "      <td>Diesel</td>\n",
       "      <td>Automatic</td>\n",
       "      <td>Dealer</td>\n",
       "      <td>First Owner</td>\n",
       "      <td>1735000</td>\n",
       "      <td>sedan</td>\n",
       "    </tr>\n",
       "    <tr>\n",
       "      <td>4</td>\n",
       "      <td>Mercedes-Benz</td>\n",
       "      <td>C-Class</td>\n",
       "      <td>2012</td>\n",
       "      <td>8</td>\n",
       "      <td>33800</td>\n",
       "      <td>Diesel</td>\n",
       "      <td>Automatic</td>\n",
       "      <td>Dealer</td>\n",
       "      <td>Second Owner</td>\n",
       "      <td>1375000</td>\n",
       "      <td>sedan</td>\n",
       "    </tr>\n",
       "  </tbody>\n",
       "</table>\n",
       "</div>"
      ],
      "text/plain": [
       "           brand    Model  year  vehicle_age  km_driven    fuel transmission  \\\n",
       "0         Jaguar       XF  2014            6      28000  Diesel    Automatic   \n",
       "1  Mercedes-Benz  C-Class  2013            7      59000  Diesel    Automatic   \n",
       "2           Audi       Q5  2011            9     175900  Diesel    Automatic   \n",
       "3           Audi       A6  2013            7      50000  Diesel    Automatic   \n",
       "4  Mercedes-Benz  C-Class  2012            8      33800  Diesel    Automatic   \n",
       "\n",
       "  seller_type         owner  selling_price  Class  \n",
       "0      Dealer   First Owner        1964999  sedan  \n",
       "1      Dealer   First Owner        1425000  sedan  \n",
       "2      Dealer   First Owner        1190000    suv  \n",
       "3      Dealer   First Owner        1735000  sedan  \n",
       "4      Dealer  Second Owner        1375000  sedan  "
      ]
     },
     "execution_count": 104,
     "metadata": {},
     "output_type": "execute_result"
    }
   ],
   "source": [
    "Luxury_brand=['Audi','BMW','Mercedes-Benz','Jaguar','Land Rover','Volvo']\n",
    "luxury_df=df[df['brand'].isin(Luxury_brand)].reset_index()\n",
    "luxury_df.drop('index',axis=1,inplace=True)\n",
    "regular_df=df[~df['brand'].isin(Luxury_brand)].reset_index()\n",
    "regular_df.drop('index',axis=1,inplace=True)\n",
    "print(luxury_df.shape,regular_df.shape)\n",
    "luxury_df.head()"
   ]
  },
  {
   "cell_type": "markdown",
   "metadata": {},
   "source": [
    "## Model Building"
   ]
  },
  {
   "cell_type": "markdown",
   "metadata": {},
   "source": [
    "removing different brands of vehicle whose frequency is very low to be able to help the predictions."
   ]
  },
  {
   "cell_type": "code",
   "execution_count": 105,
   "metadata": {},
   "outputs": [
    {
     "name": "stdout",
     "output_type": "stream",
     "text": [
      "(4281, 11) (3963, 11)\n"
     ]
    }
   ],
   "source": [
    "shape_before=df.shape\n",
    "vc=df.brand.value_counts(normalize=True)\n",
    "low_freq_brands=list(vc[vc.values<=0.02].index)\n",
    "\n",
    "df=df[~df['brand'].isin(low_freq_brands)]\n",
    "df=df.reset_index()\n",
    "df.drop('index',axis=1,inplace=True)\n",
    "df.head()\n",
    "print(shape_before,df.shape)"
   ]
  },
  {
   "cell_type": "code",
   "execution_count": 106,
   "metadata": {},
   "outputs": [
    {
     "data": {
      "text/html": [
       "<div>\n",
       "<style scoped>\n",
       "    .dataframe tbody tr th:only-of-type {\n",
       "        vertical-align: middle;\n",
       "    }\n",
       "\n",
       "    .dataframe tbody tr th {\n",
       "        vertical-align: top;\n",
       "    }\n",
       "\n",
       "    .dataframe thead th {\n",
       "        text-align: right;\n",
       "    }\n",
       "</style>\n",
       "<table border=\"1\" class=\"dataframe\">\n",
       "  <thead>\n",
       "    <tr style=\"text-align: right;\">\n",
       "      <th></th>\n",
       "      <th>Model</th>\n",
       "      <th>vehicle_age</th>\n",
       "      <th>km_driven</th>\n",
       "      <th>fuel</th>\n",
       "      <th>transmission</th>\n",
       "      <th>owner</th>\n",
       "      <th>seller_type</th>\n",
       "      <th>selling_price</th>\n",
       "    </tr>\n",
       "  </thead>\n",
       "  <tbody>\n",
       "    <tr>\n",
       "      <td>0</td>\n",
       "      <td>800</td>\n",
       "      <td>13</td>\n",
       "      <td>70000</td>\n",
       "      <td>Petrol</td>\n",
       "      <td>Manual</td>\n",
       "      <td>First Owner</td>\n",
       "      <td>Individual</td>\n",
       "      <td>60000</td>\n",
       "    </tr>\n",
       "    <tr>\n",
       "      <td>1</td>\n",
       "      <td>Wagon R</td>\n",
       "      <td>13</td>\n",
       "      <td>50000</td>\n",
       "      <td>Petrol</td>\n",
       "      <td>Manual</td>\n",
       "      <td>First Owner</td>\n",
       "      <td>Individual</td>\n",
       "      <td>135000</td>\n",
       "    </tr>\n",
       "    <tr>\n",
       "      <td>2</td>\n",
       "      <td>Verna</td>\n",
       "      <td>8</td>\n",
       "      <td>100000</td>\n",
       "      <td>Diesel</td>\n",
       "      <td>Manual</td>\n",
       "      <td>First Owner</td>\n",
       "      <td>Individual</td>\n",
       "      <td>600000</td>\n",
       "    </tr>\n",
       "    <tr>\n",
       "      <td>3</td>\n",
       "      <td>Amaze</td>\n",
       "      <td>6</td>\n",
       "      <td>141000</td>\n",
       "      <td>Diesel</td>\n",
       "      <td>Manual</td>\n",
       "      <td>Second Owner</td>\n",
       "      <td>Individual</td>\n",
       "      <td>450000</td>\n",
       "    </tr>\n",
       "    <tr>\n",
       "      <td>4</td>\n",
       "      <td>Alto</td>\n",
       "      <td>13</td>\n",
       "      <td>125000</td>\n",
       "      <td>Petrol</td>\n",
       "      <td>Manual</td>\n",
       "      <td>First Owner</td>\n",
       "      <td>Individual</td>\n",
       "      <td>140000</td>\n",
       "    </tr>\n",
       "  </tbody>\n",
       "</table>\n",
       "</div>"
      ],
      "text/plain": [
       "     Model  vehicle_age  km_driven    fuel transmission         owner  \\\n",
       "0      800           13      70000  Petrol       Manual   First Owner   \n",
       "1  Wagon R           13      50000  Petrol       Manual   First Owner   \n",
       "2    Verna            8     100000  Diesel       Manual   First Owner   \n",
       "3    Amaze            6     141000  Diesel       Manual  Second Owner   \n",
       "4     Alto           13     125000  Petrol       Manual   First Owner   \n",
       "\n",
       "  seller_type  selling_price  \n",
       "0  Individual          60000  \n",
       "1  Individual         135000  \n",
       "2  Individual         600000  \n",
       "3  Individual         450000  \n",
       "4  Individual         140000  "
      ]
     },
     "execution_count": 106,
     "metadata": {},
     "output_type": "execute_result"
    }
   ],
   "source": [
    "#df.drop(['brand','year'],axis=1,inplace=True)\n",
    "df=df[['Model','vehicle_age','km_driven','fuel','transmission','owner','seller_type','selling_price']]\n",
    "df.head()"
   ]
  },
  {
   "cell_type": "code",
   "execution_count": 107,
   "metadata": {
    "scrolled": true
   },
   "outputs": [],
   "source": [
    "# brand_car_dict={}\n",
    "# mean_sell=df.groupby(['brand','Model'])['selling_price'].mean().reset_index()\n",
    "# car_brands=mean_sell.brand.unique()\n",
    "# for car_brand in car_brands:\n",
    "#     cars=list(mean_sell.loc[mean_sell['brand']==car_brand,'Model'].unique())\n",
    "#     brand_car_dict[car_brand]=cars\n",
    "# brand_car_dict"
   ]
  },
  {
   "cell_type": "code",
   "execution_count": 108,
   "metadata": {},
   "outputs": [],
   "source": [
    "# import json\n",
    "# with open(\"brand_car_dict.json\",\"w\") as f:\n",
    "#     f.write(json.dumps(brand_car_dict))"
   ]
  },
  {
   "cell_type": "code",
   "execution_count": 109,
   "metadata": {},
   "outputs": [
    {
     "name": "stdout",
     "output_type": "stream",
     "text": [
      "(3963, 8) (3948, 8)\n"
     ]
    },
    {
     "data": {
      "text/html": [
       "<div>\n",
       "<style scoped>\n",
       "    .dataframe tbody tr th:only-of-type {\n",
       "        vertical-align: middle;\n",
       "    }\n",
       "\n",
       "    .dataframe tbody tr th {\n",
       "        vertical-align: top;\n",
       "    }\n",
       "\n",
       "    .dataframe thead th {\n",
       "        text-align: right;\n",
       "    }\n",
       "</style>\n",
       "<table border=\"1\" class=\"dataframe\">\n",
       "  <thead>\n",
       "    <tr style=\"text-align: right;\">\n",
       "      <th></th>\n",
       "      <th>Model</th>\n",
       "      <th>vehicle_age</th>\n",
       "      <th>km_driven</th>\n",
       "      <th>fuel</th>\n",
       "      <th>transmission</th>\n",
       "      <th>owner</th>\n",
       "      <th>seller_type</th>\n",
       "      <th>selling_price</th>\n",
       "    </tr>\n",
       "  </thead>\n",
       "  <tbody>\n",
       "    <tr>\n",
       "      <td>0</td>\n",
       "      <td>800</td>\n",
       "      <td>13</td>\n",
       "      <td>70000</td>\n",
       "      <td>Petrol</td>\n",
       "      <td>Manual</td>\n",
       "      <td>First Owner</td>\n",
       "      <td>Individual</td>\n",
       "      <td>60000</td>\n",
       "    </tr>\n",
       "    <tr>\n",
       "      <td>1</td>\n",
       "      <td>Wagon R</td>\n",
       "      <td>13</td>\n",
       "      <td>50000</td>\n",
       "      <td>Petrol</td>\n",
       "      <td>Manual</td>\n",
       "      <td>First Owner</td>\n",
       "      <td>Individual</td>\n",
       "      <td>135000</td>\n",
       "    </tr>\n",
       "    <tr>\n",
       "      <td>2</td>\n",
       "      <td>Verna</td>\n",
       "      <td>8</td>\n",
       "      <td>100000</td>\n",
       "      <td>Diesel</td>\n",
       "      <td>Manual</td>\n",
       "      <td>First Owner</td>\n",
       "      <td>Individual</td>\n",
       "      <td>600000</td>\n",
       "    </tr>\n",
       "    <tr>\n",
       "      <td>3</td>\n",
       "      <td>Amaze</td>\n",
       "      <td>6</td>\n",
       "      <td>141000</td>\n",
       "      <td>Diesel</td>\n",
       "      <td>Manual</td>\n",
       "      <td>Second Owner</td>\n",
       "      <td>Individual</td>\n",
       "      <td>450000</td>\n",
       "    </tr>\n",
       "    <tr>\n",
       "      <td>4</td>\n",
       "      <td>Alto</td>\n",
       "      <td>13</td>\n",
       "      <td>125000</td>\n",
       "      <td>Petrol</td>\n",
       "      <td>Manual</td>\n",
       "      <td>First Owner</td>\n",
       "      <td>Individual</td>\n",
       "      <td>140000</td>\n",
       "    </tr>\n",
       "  </tbody>\n",
       "</table>\n",
       "</div>"
      ],
      "text/plain": [
       "     Model  vehicle_age  km_driven    fuel transmission         owner  \\\n",
       "0      800           13      70000  Petrol       Manual   First Owner   \n",
       "1  Wagon R           13      50000  Petrol       Manual   First Owner   \n",
       "2    Verna            8     100000  Diesel       Manual   First Owner   \n",
       "3    Amaze            6     141000  Diesel       Manual  Second Owner   \n",
       "4     Alto           13     125000  Petrol       Manual   First Owner   \n",
       "\n",
       "  seller_type  selling_price  \n",
       "0  Individual          60000  \n",
       "1  Individual         135000  \n",
       "2  Individual         600000  \n",
       "3  Individual         450000  \n",
       "4  Individual         140000  "
      ]
     },
     "execution_count": 109,
     "metadata": {},
     "output_type": "execute_result"
    }
   ],
   "source": [
    "vc0=df.Model.value_counts()\n",
    "low_freq=list(vc0[vc0.values<2].index)\n",
    "shape_before=df.shape\n",
    "df=df[~df['Model'].isin(low_freq)].reset_index()\n",
    "df=df.drop('index',axis=1)\n",
    "print(shape_before,df.shape)\n",
    "df.head()"
   ]
  },
  {
   "cell_type": "code",
   "execution_count": 110,
   "metadata": {},
   "outputs": [],
   "source": [
    "target='selling_price'\n",
    "x=list(df.columns)\n",
    "x.remove(target)"
   ]
  },
  {
   "cell_type": "markdown",
   "metadata": {},
   "source": [
    "\n",
    "splitting the data into train and test\n",
    "\n",
    "try to tune hyperparameters by scoring the validation sample, instead of test to prevent overtraining( where you try to fit the model to get the best test result)\n",
    "\n",
    "as I have very less data, I'm splitting it into only train and test"
   ]
  },
  {
   "cell_type": "code",
   "execution_count": 111,
   "metadata": {},
   "outputs": [
    {
     "data": {
      "text/html": [
       "<div>\n",
       "<style scoped>\n",
       "    .dataframe tbody tr th:only-of-type {\n",
       "        vertical-align: middle;\n",
       "    }\n",
       "\n",
       "    .dataframe tbody tr th {\n",
       "        vertical-align: top;\n",
       "    }\n",
       "\n",
       "    .dataframe thead th {\n",
       "        text-align: right;\n",
       "    }\n",
       "</style>\n",
       "<table border=\"1\" class=\"dataframe\">\n",
       "  <thead>\n",
       "    <tr style=\"text-align: right;\">\n",
       "      <th></th>\n",
       "      <th>Model</th>\n",
       "      <th>vehicle_age</th>\n",
       "      <th>km_driven</th>\n",
       "      <th>fuel</th>\n",
       "      <th>transmission</th>\n",
       "      <th>owner</th>\n",
       "      <th>seller_type</th>\n",
       "    </tr>\n",
       "  </thead>\n",
       "  <tbody>\n",
       "    <tr>\n",
       "      <td>0</td>\n",
       "      <td>800</td>\n",
       "      <td>13</td>\n",
       "      <td>70000</td>\n",
       "      <td>Petrol</td>\n",
       "      <td>Manual</td>\n",
       "      <td>First Owner</td>\n",
       "      <td>Individual</td>\n",
       "    </tr>\n",
       "    <tr>\n",
       "      <td>1</td>\n",
       "      <td>Wagon R</td>\n",
       "      <td>13</td>\n",
       "      <td>50000</td>\n",
       "      <td>Petrol</td>\n",
       "      <td>Manual</td>\n",
       "      <td>First Owner</td>\n",
       "      <td>Individual</td>\n",
       "    </tr>\n",
       "    <tr>\n",
       "      <td>2</td>\n",
       "      <td>Verna</td>\n",
       "      <td>8</td>\n",
       "      <td>100000</td>\n",
       "      <td>Diesel</td>\n",
       "      <td>Manual</td>\n",
       "      <td>First Owner</td>\n",
       "      <td>Individual</td>\n",
       "    </tr>\n",
       "    <tr>\n",
       "      <td>3</td>\n",
       "      <td>Amaze</td>\n",
       "      <td>6</td>\n",
       "      <td>141000</td>\n",
       "      <td>Diesel</td>\n",
       "      <td>Manual</td>\n",
       "      <td>Second Owner</td>\n",
       "      <td>Individual</td>\n",
       "    </tr>\n",
       "    <tr>\n",
       "      <td>4</td>\n",
       "      <td>Alto</td>\n",
       "      <td>13</td>\n",
       "      <td>125000</td>\n",
       "      <td>Petrol</td>\n",
       "      <td>Manual</td>\n",
       "      <td>First Owner</td>\n",
       "      <td>Individual</td>\n",
       "    </tr>\n",
       "    <tr>\n",
       "      <td>...</td>\n",
       "      <td>...</td>\n",
       "      <td>...</td>\n",
       "      <td>...</td>\n",
       "      <td>...</td>\n",
       "      <td>...</td>\n",
       "      <td>...</td>\n",
       "      <td>...</td>\n",
       "    </tr>\n",
       "    <tr>\n",
       "      <td>3943</td>\n",
       "      <td>i20</td>\n",
       "      <td>6</td>\n",
       "      <td>80000</td>\n",
       "      <td>Diesel</td>\n",
       "      <td>Manual</td>\n",
       "      <td>Second Owner</td>\n",
       "      <td>Individual</td>\n",
       "    </tr>\n",
       "    <tr>\n",
       "      <td>3944</td>\n",
       "      <td>i20</td>\n",
       "      <td>6</td>\n",
       "      <td>80000</td>\n",
       "      <td>Diesel</td>\n",
       "      <td>Manual</td>\n",
       "      <td>Second Owner</td>\n",
       "      <td>Individual</td>\n",
       "    </tr>\n",
       "    <tr>\n",
       "      <td>3945</td>\n",
       "      <td>800</td>\n",
       "      <td>11</td>\n",
       "      <td>83000</td>\n",
       "      <td>Petrol</td>\n",
       "      <td>Manual</td>\n",
       "      <td>Second Owner</td>\n",
       "      <td>Individual</td>\n",
       "    </tr>\n",
       "    <tr>\n",
       "      <td>3946</td>\n",
       "      <td>Creta</td>\n",
       "      <td>4</td>\n",
       "      <td>90000</td>\n",
       "      <td>Diesel</td>\n",
       "      <td>Manual</td>\n",
       "      <td>First Owner</td>\n",
       "      <td>Individual</td>\n",
       "    </tr>\n",
       "    <tr>\n",
       "      <td>3947</td>\n",
       "      <td>Kwid</td>\n",
       "      <td>4</td>\n",
       "      <td>40000</td>\n",
       "      <td>Petrol</td>\n",
       "      <td>Manual</td>\n",
       "      <td>First Owner</td>\n",
       "      <td>Individual</td>\n",
       "    </tr>\n",
       "  </tbody>\n",
       "</table>\n",
       "<p>3948 rows × 7 columns</p>\n",
       "</div>"
      ],
      "text/plain": [
       "        Model  vehicle_age  km_driven    fuel transmission         owner  \\\n",
       "0         800           13      70000  Petrol       Manual   First Owner   \n",
       "1     Wagon R           13      50000  Petrol       Manual   First Owner   \n",
       "2       Verna            8     100000  Diesel       Manual   First Owner   \n",
       "3       Amaze            6     141000  Diesel       Manual  Second Owner   \n",
       "4        Alto           13     125000  Petrol       Manual   First Owner   \n",
       "...       ...          ...        ...     ...          ...           ...   \n",
       "3943      i20            6      80000  Diesel       Manual  Second Owner   \n",
       "3944      i20            6      80000  Diesel       Manual  Second Owner   \n",
       "3945      800           11      83000  Petrol       Manual  Second Owner   \n",
       "3946    Creta            4      90000  Diesel       Manual   First Owner   \n",
       "3947     Kwid            4      40000  Petrol       Manual   First Owner   \n",
       "\n",
       "     seller_type  \n",
       "0     Individual  \n",
       "1     Individual  \n",
       "2     Individual  \n",
       "3     Individual  \n",
       "4     Individual  \n",
       "...          ...  \n",
       "3943  Individual  \n",
       "3944  Individual  \n",
       "3945  Individual  \n",
       "3946  Individual  \n",
       "3947  Individual  \n",
       "\n",
       "[3948 rows x 7 columns]"
      ]
     },
     "execution_count": 111,
     "metadata": {},
     "output_type": "execute_result"
    }
   ],
   "source": [
    "df[x]"
   ]
  },
  {
   "cell_type": "code",
   "execution_count": 112,
   "metadata": {},
   "outputs": [
    {
     "name": "stdout",
     "output_type": "stream",
     "text": [
      "(2961, 7) (987, 7) (2961,) (987,)\n"
     ]
    },
    {
     "data": {
      "text/html": [
       "<div>\n",
       "<style scoped>\n",
       "    .dataframe tbody tr th:only-of-type {\n",
       "        vertical-align: middle;\n",
       "    }\n",
       "\n",
       "    .dataframe tbody tr th {\n",
       "        vertical-align: top;\n",
       "    }\n",
       "\n",
       "    .dataframe thead th {\n",
       "        text-align: right;\n",
       "    }\n",
       "</style>\n",
       "<table border=\"1\" class=\"dataframe\">\n",
       "  <thead>\n",
       "    <tr style=\"text-align: right;\">\n",
       "      <th></th>\n",
       "      <th>Model</th>\n",
       "      <th>vehicle_age</th>\n",
       "      <th>km_driven</th>\n",
       "      <th>fuel</th>\n",
       "      <th>transmission</th>\n",
       "      <th>owner</th>\n",
       "      <th>seller_type</th>\n",
       "    </tr>\n",
       "  </thead>\n",
       "  <tbody>\n",
       "    <tr>\n",
       "      <td>3709</td>\n",
       "      <td>Swift</td>\n",
       "      <td>11</td>\n",
       "      <td>67580</td>\n",
       "      <td>Petrol</td>\n",
       "      <td>Manual</td>\n",
       "      <td>Second Owner</td>\n",
       "      <td>Individual</td>\n",
       "    </tr>\n",
       "    <tr>\n",
       "      <td>554</td>\n",
       "      <td>Swift Dzire</td>\n",
       "      <td>3</td>\n",
       "      <td>46507</td>\n",
       "      <td>Diesel</td>\n",
       "      <td>Manual</td>\n",
       "      <td>First Owner</td>\n",
       "      <td>Trustmark Dealer</td>\n",
       "    </tr>\n",
       "    <tr>\n",
       "      <td>2365</td>\n",
       "      <td>Ritz</td>\n",
       "      <td>9</td>\n",
       "      <td>80000</td>\n",
       "      <td>Diesel</td>\n",
       "      <td>Manual</td>\n",
       "      <td>First Owner</td>\n",
       "      <td>Individual</td>\n",
       "    </tr>\n",
       "    <tr>\n",
       "      <td>1687</td>\n",
       "      <td>Thar</td>\n",
       "      <td>2</td>\n",
       "      <td>5000</td>\n",
       "      <td>Diesel</td>\n",
       "      <td>Manual</td>\n",
       "      <td>First Owner</td>\n",
       "      <td>Individual</td>\n",
       "    </tr>\n",
       "    <tr>\n",
       "      <td>89</td>\n",
       "      <td>SX4</td>\n",
       "      <td>9</td>\n",
       "      <td>110000</td>\n",
       "      <td>Petrol</td>\n",
       "      <td>Manual</td>\n",
       "      <td>Third Owner</td>\n",
       "      <td>Individual</td>\n",
       "    </tr>\n",
       "  </tbody>\n",
       "</table>\n",
       "</div>"
      ],
      "text/plain": [
       "            Model  vehicle_age  km_driven    fuel transmission         owner  \\\n",
       "3709        Swift           11      67580  Petrol       Manual  Second Owner   \n",
       "554   Swift Dzire            3      46507  Diesel       Manual   First Owner   \n",
       "2365         Ritz            9      80000  Diesel       Manual   First Owner   \n",
       "1687         Thar            2       5000  Diesel       Manual   First Owner   \n",
       "89            SX4            9     110000  Petrol       Manual   Third Owner   \n",
       "\n",
       "           seller_type  \n",
       "3709        Individual  \n",
       "554   Trustmark Dealer  \n",
       "2365        Individual  \n",
       "1687        Individual  \n",
       "89          Individual  "
      ]
     },
     "execution_count": 112,
     "metadata": {},
     "output_type": "execute_result"
    }
   ],
   "source": [
    "x_train, x_test, y_train, y_test = train_test_split(df[x],df[target],random_state=10,stratify=df['Model'],test_size=0.25)\n",
    "print(x_train.shape, x_test.shape, y_train.shape, y_test.shape)\n",
    "\n",
    "x_train.head()"
   ]
  },
  {
   "cell_type": "markdown",
   "metadata": {},
   "source": [
    "As we have very few instances, instead of removing the outliers (which reduces our data further), a new column is created to flag the rows which have outliers"
   ]
  },
  {
   "cell_type": "code",
   "execution_count": 113,
   "metadata": {},
   "outputs": [],
   "source": [
    "def outlier_flag(df_in, col_name):\n",
    "    q1 = df_in[col_name].quantile(0.25)\n",
    "    q3 = df_in[col_name].quantile(0.75)\n",
    "    iqr = q3-q1 #Interquartile range\n",
    "    fence_low  = q1-1.5*iqr\n",
    "    fence_high = q3+1.5*iqr\n",
    "    print(fence_low,fence_high)\n",
    "    df_in.loc[((df_in[col_name] < fence_low) | (df_in[col_name] > fence_high)),'outlier_flag']='o_'+col_name\n",
    "    return df_in"
   ]
  },
  {
   "cell_type": "code",
   "execution_count": 114,
   "metadata": {},
   "outputs": [
    {
     "name": "stdout",
     "output_type": "stream",
     "text": [
      "-47500.0 172500.0\n",
      "-3.5 16.5\n",
      "-47500.0 172500.0\n",
      "-5.0 19.0\n"
     ]
    }
   ],
   "source": [
    "for data in [x_train,x_test]:\n",
    "    for col in ['km_driven','vehicle_age']:\n",
    "        data=outlier_flag(data,col)\n",
    "    data['outlier_flag'].fillna(value='no_outlier',inplace=True)"
   ]
  },
  {
   "cell_type": "code",
   "execution_count": 115,
   "metadata": {},
   "outputs": [],
   "source": [
    "iqr_dict={'km_driven_low':0,'km_driven_high':0,'vehicle_age_low':0,'vehicle_age':0}\n",
    "def outlier_flag(df_in, col_name,is_test_df=False):\n",
    "    if is_test_df==True:\n",
    "        fence_low=iqr_dict[col+'_low']\n",
    "        fence_high=iqr_dict[col+'_high']\n",
    "        df_in.loc[((df_in[col_name] < fence_low) | (df_in[col_name] > fence_high)),'outlier_flag']='o_'+col_name\n",
    "    else:\n",
    "        q1 = df_in[col_name].quantile(0.25)\n",
    "        q3 = df_in[col_name].quantile(0.75)\n",
    "        iqr = q3-q1 #Interquartile range\n",
    "        fence_low  = q1-1.5*iqr\n",
    "        fence_high = q3+1.5*iqr\n",
    "        iqr_dict[col+'_low']=fence_low\n",
    "        iqr_dict[col+'_high']=fence_high\n",
    "        df_in.loc[((df_in[col_name] < fence_low) | (df_in[col_name] > fence_high)),'outlier_flag']='o_'+col_name\n",
    "    return df_in"
   ]
  },
  {
   "cell_type": "code",
   "execution_count": 116,
   "metadata": {},
   "outputs": [
    {
     "data": {
      "text/plain": [
       "{'km_driven_low': 0,\n",
       " 'km_driven_high': 0,\n",
       " 'vehicle_age_low': 0,\n",
       " 'vehicle_age': 0}"
      ]
     },
     "execution_count": 116,
     "metadata": {},
     "output_type": "execute_result"
    }
   ],
   "source": [
    "iqr_dict"
   ]
  },
  {
   "cell_type": "code",
   "execution_count": 117,
   "metadata": {},
   "outputs": [],
   "source": [
    "# iqr_dict\n",
    "# with open(\"iqr_dict.json\",\"w\") as f:\n",
    "#     f.write(json.dumps(iqr_dict))"
   ]
  },
  {
   "cell_type": "code",
   "execution_count": 118,
   "metadata": {},
   "outputs": [],
   "source": [
    "for text,data in [('train',x_train),('test',x_test)]:\n",
    "    for col in ['km_driven','vehicle_age']:\n",
    "        if text=='test':\n",
    "            is_test_df=True\n",
    "        else:\n",
    "            is_test_df=False\n",
    "        data=outlier_flag(data,col,is_test_df)\n",
    "    data['outlier_flag'].fillna(value='no_outlier',inplace=True)"
   ]
  },
  {
   "cell_type": "code",
   "execution_count": 119,
   "metadata": {},
   "outputs": [],
   "source": [
    "te=ce.TargetEncoder(verbose=1,cols=['Model'])"
   ]
  },
  {
   "cell_type": "code",
   "execution_count": 120,
   "metadata": {},
   "outputs": [
    {
     "data": {
      "text/html": [
       "<div>\n",
       "<style scoped>\n",
       "    .dataframe tbody tr th:only-of-type {\n",
       "        vertical-align: middle;\n",
       "    }\n",
       "\n",
       "    .dataframe tbody tr th {\n",
       "        vertical-align: top;\n",
       "    }\n",
       "\n",
       "    .dataframe thead th {\n",
       "        text-align: right;\n",
       "    }\n",
       "</style>\n",
       "<table border=\"1\" class=\"dataframe\">\n",
       "  <thead>\n",
       "    <tr style=\"text-align: right;\">\n",
       "      <th></th>\n",
       "      <th>Model</th>\n",
       "      <th>vehicle_age</th>\n",
       "      <th>km_driven</th>\n",
       "      <th>fuel</th>\n",
       "      <th>transmission</th>\n",
       "      <th>owner</th>\n",
       "      <th>seller_type</th>\n",
       "      <th>outlier_flag</th>\n",
       "    </tr>\n",
       "  </thead>\n",
       "  <tbody>\n",
       "    <tr>\n",
       "      <td>3709</td>\n",
       "      <td>398801.455882</td>\n",
       "      <td>11</td>\n",
       "      <td>67580</td>\n",
       "      <td>Petrol</td>\n",
       "      <td>Manual</td>\n",
       "      <td>Second Owner</td>\n",
       "      <td>Individual</td>\n",
       "      <td>no_outlier</td>\n",
       "    </tr>\n",
       "    <tr>\n",
       "      <td>554</td>\n",
       "      <td>495615.375000</td>\n",
       "      <td>3</td>\n",
       "      <td>46507</td>\n",
       "      <td>Diesel</td>\n",
       "      <td>Manual</td>\n",
       "      <td>First Owner</td>\n",
       "      <td>Trustmark Dealer</td>\n",
       "      <td>no_outlier</td>\n",
       "    </tr>\n",
       "    <tr>\n",
       "      <td>2365</td>\n",
       "      <td>260750.000000</td>\n",
       "      <td>9</td>\n",
       "      <td>80000</td>\n",
       "      <td>Diesel</td>\n",
       "      <td>Manual</td>\n",
       "      <td>First Owner</td>\n",
       "      <td>Individual</td>\n",
       "      <td>no_outlier</td>\n",
       "    </tr>\n",
       "    <tr>\n",
       "      <td>1687</td>\n",
       "      <td>657295.083165</td>\n",
       "      <td>2</td>\n",
       "      <td>5000</td>\n",
       "      <td>Diesel</td>\n",
       "      <td>Manual</td>\n",
       "      <td>First Owner</td>\n",
       "      <td>Individual</td>\n",
       "      <td>no_outlier</td>\n",
       "    </tr>\n",
       "    <tr>\n",
       "      <td>89</td>\n",
       "      <td>283088.235294</td>\n",
       "      <td>9</td>\n",
       "      <td>110000</td>\n",
       "      <td>Petrol</td>\n",
       "      <td>Manual</td>\n",
       "      <td>Third Owner</td>\n",
       "      <td>Individual</td>\n",
       "      <td>no_outlier</td>\n",
       "    </tr>\n",
       "  </tbody>\n",
       "</table>\n",
       "</div>"
      ],
      "text/plain": [
       "              Model  vehicle_age  km_driven    fuel transmission  \\\n",
       "3709  398801.455882           11      67580  Petrol       Manual   \n",
       "554   495615.375000            3      46507  Diesel       Manual   \n",
       "2365  260750.000000            9      80000  Diesel       Manual   \n",
       "1687  657295.083165            2       5000  Diesel       Manual   \n",
       "89    283088.235294            9     110000  Petrol       Manual   \n",
       "\n",
       "             owner       seller_type outlier_flag  \n",
       "3709  Second Owner        Individual   no_outlier  \n",
       "554    First Owner  Trustmark Dealer   no_outlier  \n",
       "2365   First Owner        Individual   no_outlier  \n",
       "1687   First Owner        Individual   no_outlier  \n",
       "89     Third Owner        Individual   no_outlier  "
      ]
     },
     "execution_count": 120,
     "metadata": {},
     "output_type": "execute_result"
    }
   ],
   "source": [
    "x_train=te.fit_transform(x_train,y_train,)\n",
    "x_test=te.transform(x_test)\n",
    "x_train.head()"
   ]
  },
  {
   "cell_type": "code",
   "execution_count": 121,
   "metadata": {},
   "outputs": [
    {
     "data": {
      "text/plain": [
       "TargetEncoder(cols=['Model'], drop_invariant=False, handle_missing='value',\n",
       "              handle_unknown='value', min_samples_leaf=1, return_df=True,\n",
       "              smoothing=1.0, verbose=1)"
      ]
     },
     "execution_count": 121,
     "metadata": {},
     "output_type": "execute_result"
    }
   ],
   "source": [
    "te"
   ]
  },
  {
   "cell_type": "code",
   "execution_count": 122,
   "metadata": {},
   "outputs": [],
   "source": [
    "# import pickle\n",
    "# with open('target_encoder.pickle','wb') as f:\n",
    "#     pickle.dump(te,f)"
   ]
  },
  {
   "cell_type": "code",
   "execution_count": 123,
   "metadata": {},
   "outputs": [
    {
     "name": "stdout",
     "output_type": "stream",
     "text": [
      "(2961, 20) (987, 20)\n"
     ]
    }
   ],
   "source": [
    "x_train=pd.get_dummies(x_train)\n",
    "x_test=pd.get_dummies(x_test)\n",
    "print(x_train.shape,x_test.shape)"
   ]
  },
  {
   "cell_type": "code",
   "execution_count": 124,
   "metadata": {},
   "outputs": [
    {
     "data": {
      "text/html": [
       "<div>\n",
       "<style scoped>\n",
       "    .dataframe tbody tr th:only-of-type {\n",
       "        vertical-align: middle;\n",
       "    }\n",
       "\n",
       "    .dataframe tbody tr th {\n",
       "        vertical-align: top;\n",
       "    }\n",
       "\n",
       "    .dataframe thead th {\n",
       "        text-align: right;\n",
       "    }\n",
       "</style>\n",
       "<table border=\"1\" class=\"dataframe\">\n",
       "  <thead>\n",
       "    <tr style=\"text-align: right;\">\n",
       "      <th></th>\n",
       "      <th>Model</th>\n",
       "      <th>vehicle_age</th>\n",
       "      <th>km_driven</th>\n",
       "      <th>fuel_CNG</th>\n",
       "      <th>fuel_Diesel</th>\n",
       "      <th>fuel_LPG</th>\n",
       "      <th>fuel_Petrol</th>\n",
       "      <th>transmission_Automatic</th>\n",
       "      <th>transmission_Manual</th>\n",
       "      <th>owner_First Owner</th>\n",
       "      <th>owner_Fourth &amp; Above Owner</th>\n",
       "      <th>owner_Second Owner</th>\n",
       "      <th>owner_Test Drive Car</th>\n",
       "      <th>owner_Third Owner</th>\n",
       "      <th>seller_type_Dealer</th>\n",
       "      <th>seller_type_Individual</th>\n",
       "      <th>seller_type_Trustmark Dealer</th>\n",
       "      <th>outlier_flag_no_outlier</th>\n",
       "      <th>outlier_flag_o_km_driven</th>\n",
       "      <th>outlier_flag_o_vehicle_age</th>\n",
       "    </tr>\n",
       "  </thead>\n",
       "  <tbody>\n",
       "    <tr>\n",
       "      <td>3709</td>\n",
       "      <td>398801.455882</td>\n",
       "      <td>11</td>\n",
       "      <td>67580</td>\n",
       "      <td>0</td>\n",
       "      <td>0</td>\n",
       "      <td>0</td>\n",
       "      <td>1</td>\n",
       "      <td>0</td>\n",
       "      <td>1</td>\n",
       "      <td>0</td>\n",
       "      <td>0</td>\n",
       "      <td>1</td>\n",
       "      <td>0</td>\n",
       "      <td>0</td>\n",
       "      <td>0</td>\n",
       "      <td>1</td>\n",
       "      <td>0</td>\n",
       "      <td>1</td>\n",
       "      <td>0</td>\n",
       "      <td>0</td>\n",
       "    </tr>\n",
       "    <tr>\n",
       "      <td>554</td>\n",
       "      <td>495615.375000</td>\n",
       "      <td>3</td>\n",
       "      <td>46507</td>\n",
       "      <td>0</td>\n",
       "      <td>1</td>\n",
       "      <td>0</td>\n",
       "      <td>0</td>\n",
       "      <td>0</td>\n",
       "      <td>1</td>\n",
       "      <td>1</td>\n",
       "      <td>0</td>\n",
       "      <td>0</td>\n",
       "      <td>0</td>\n",
       "      <td>0</td>\n",
       "      <td>0</td>\n",
       "      <td>0</td>\n",
       "      <td>1</td>\n",
       "      <td>1</td>\n",
       "      <td>0</td>\n",
       "      <td>0</td>\n",
       "    </tr>\n",
       "    <tr>\n",
       "      <td>2365</td>\n",
       "      <td>260750.000000</td>\n",
       "      <td>9</td>\n",
       "      <td>80000</td>\n",
       "      <td>0</td>\n",
       "      <td>1</td>\n",
       "      <td>0</td>\n",
       "      <td>0</td>\n",
       "      <td>0</td>\n",
       "      <td>1</td>\n",
       "      <td>1</td>\n",
       "      <td>0</td>\n",
       "      <td>0</td>\n",
       "      <td>0</td>\n",
       "      <td>0</td>\n",
       "      <td>0</td>\n",
       "      <td>1</td>\n",
       "      <td>0</td>\n",
       "      <td>1</td>\n",
       "      <td>0</td>\n",
       "      <td>0</td>\n",
       "    </tr>\n",
       "    <tr>\n",
       "      <td>1687</td>\n",
       "      <td>657295.083165</td>\n",
       "      <td>2</td>\n",
       "      <td>5000</td>\n",
       "      <td>0</td>\n",
       "      <td>1</td>\n",
       "      <td>0</td>\n",
       "      <td>0</td>\n",
       "      <td>0</td>\n",
       "      <td>1</td>\n",
       "      <td>1</td>\n",
       "      <td>0</td>\n",
       "      <td>0</td>\n",
       "      <td>0</td>\n",
       "      <td>0</td>\n",
       "      <td>0</td>\n",
       "      <td>1</td>\n",
       "      <td>0</td>\n",
       "      <td>1</td>\n",
       "      <td>0</td>\n",
       "      <td>0</td>\n",
       "    </tr>\n",
       "    <tr>\n",
       "      <td>89</td>\n",
       "      <td>283088.235294</td>\n",
       "      <td>9</td>\n",
       "      <td>110000</td>\n",
       "      <td>0</td>\n",
       "      <td>0</td>\n",
       "      <td>0</td>\n",
       "      <td>1</td>\n",
       "      <td>0</td>\n",
       "      <td>1</td>\n",
       "      <td>0</td>\n",
       "      <td>0</td>\n",
       "      <td>0</td>\n",
       "      <td>0</td>\n",
       "      <td>1</td>\n",
       "      <td>0</td>\n",
       "      <td>1</td>\n",
       "      <td>0</td>\n",
       "      <td>1</td>\n",
       "      <td>0</td>\n",
       "      <td>0</td>\n",
       "    </tr>\n",
       "  </tbody>\n",
       "</table>\n",
       "</div>"
      ],
      "text/plain": [
       "              Model  vehicle_age  km_driven  fuel_CNG  fuel_Diesel  fuel_LPG  \\\n",
       "3709  398801.455882           11      67580         0            0         0   \n",
       "554   495615.375000            3      46507         0            1         0   \n",
       "2365  260750.000000            9      80000         0            1         0   \n",
       "1687  657295.083165            2       5000         0            1         0   \n",
       "89    283088.235294            9     110000         0            0         0   \n",
       "\n",
       "      fuel_Petrol  transmission_Automatic  transmission_Manual  \\\n",
       "3709            1                       0                    1   \n",
       "554             0                       0                    1   \n",
       "2365            0                       0                    1   \n",
       "1687            0                       0                    1   \n",
       "89              1                       0                    1   \n",
       "\n",
       "      owner_First Owner  owner_Fourth & Above Owner  owner_Second Owner  \\\n",
       "3709                  0                           0                   1   \n",
       "554                   1                           0                   0   \n",
       "2365                  1                           0                   0   \n",
       "1687                  1                           0                   0   \n",
       "89                    0                           0                   0   \n",
       "\n",
       "      owner_Test Drive Car  owner_Third Owner  seller_type_Dealer  \\\n",
       "3709                     0                  0                   0   \n",
       "554                      0                  0                   0   \n",
       "2365                     0                  0                   0   \n",
       "1687                     0                  0                   0   \n",
       "89                       0                  1                   0   \n",
       "\n",
       "      seller_type_Individual  seller_type_Trustmark Dealer  \\\n",
       "3709                       1                             0   \n",
       "554                        0                             1   \n",
       "2365                       1                             0   \n",
       "1687                       1                             0   \n",
       "89                         1                             0   \n",
       "\n",
       "      outlier_flag_no_outlier  outlier_flag_o_km_driven  \\\n",
       "3709                        1                         0   \n",
       "554                         1                         0   \n",
       "2365                        1                         0   \n",
       "1687                        1                         0   \n",
       "89                          1                         0   \n",
       "\n",
       "      outlier_flag_o_vehicle_age  \n",
       "3709                           0  \n",
       "554                            0  \n",
       "2365                           0  \n",
       "1687                           0  \n",
       "89                             0  "
      ]
     },
     "execution_count": 124,
     "metadata": {},
     "output_type": "execute_result"
    }
   ],
   "source": [
    "x_train.head()"
   ]
  },
  {
   "cell_type": "code",
   "execution_count": 125,
   "metadata": {},
   "outputs": [
    {
     "data": {
      "text/plain": [
       "set()"
      ]
     },
     "execution_count": 125,
     "metadata": {},
     "output_type": "execute_result"
    }
   ],
   "source": [
    "x_train_cols=x_train.columns\n",
    "x_test_cols=x_test.columns\n",
    "\n",
    "missing=(set(x_train_cols)-set(x_test_cols))\n",
    "for str in missing:\n",
    "    x_test[str]=0\n",
    "\n",
    "x_train_cols=x_train.columns\n",
    "x_test_cols=x_test.columns\n",
    "(set(x_train_cols)-set(x_test_cols))"
   ]
  },
  {
   "cell_type": "code",
   "execution_count": 126,
   "metadata": {},
   "outputs": [],
   "source": [
    "# with open(\"train_cols.json\",\"w\") as f:\n",
    "#     f.write(json.dumps(list(x_train_cols)))"
   ]
  },
  {
   "cell_type": "code",
   "execution_count": 127,
   "metadata": {},
   "outputs": [
    {
     "name": "stdout",
     "output_type": "stream",
     "text": [
      "(2961, 20) (987, 20)\n"
     ]
    }
   ],
   "source": [
    "print(x_train.shape,x_test.shape)"
   ]
  },
  {
   "cell_type": "code",
   "execution_count": 128,
   "metadata": {},
   "outputs": [],
   "source": [
    "#importing required packages for model building\n",
    "from sklearn.model_selection import RandomizedSearchCV\n",
    "from sklearn.model_selection import GridSearchCV\n",
    "from sklearn.metrics import mean_squared_error,r2_score"
   ]
  },
  {
   "cell_type": "code",
   "execution_count": 129,
   "metadata": {},
   "outputs": [],
   "source": [
    "def mean_absolute_percentage_error(y_true, y_pred): \n",
    "    y_true, y_pred = np.array(y_true), np.array(y_pred)\n",
    "    return np.mean(np.abs((y_true - y_pred) / y_true)) * 100"
   ]
  },
  {
   "cell_type": "code",
   "execution_count": 130,
   "metadata": {},
   "outputs": [],
   "source": [
    "from sklearn.model_selection import learning_curve\n",
    "def plot_learning_curve(estimator, title, X, y, ylim=None, cv=None,n_jobs=None, train_sizes=np.linspace(.1, 1.0, 10)):\n",
    "    \n",
    "    plt.figure()\n",
    "    plt.title(title)\n",
    "    if ylim is not None:\n",
    "        plt.ylim(*ylim)\n",
    "    plt.xlabel(\"Training examples\")\n",
    "    plt.ylabel(\"Score\")\n",
    "    train_sizes, train_scores, test_scores = learning_curve(\n",
    "        estimator, X, y, cv=cv, n_jobs=n_jobs, train_sizes=train_sizes)\n",
    "    train_scores_mean = np.mean(train_scores, axis=1)\n",
    "    train_scores_std = np.std(train_scores, axis=1)\n",
    "    test_scores_mean = np.mean(test_scores, axis=1)\n",
    "    test_scores_std = np.std(test_scores, axis=1)\n",
    "    plt.grid()\n",
    "\n",
    "    plt.fill_between(train_sizes, train_scores_mean - train_scores_std,\n",
    "                     train_scores_mean + train_scores_std, alpha=0.1,\n",
    "                     color=\"r\")\n",
    "    plt.fill_between(train_sizes, test_scores_mean - test_scores_std,\n",
    "                     test_scores_mean + test_scores_std, alpha=0.1, color=\"g\")\n",
    "    plt.plot(train_sizes, train_scores_mean, 'o-', color=\"r\",\n",
    "             label=\"Training score\")\n",
    "    plt.plot(train_sizes, test_scores_mean, 'o-', color=\"g\",\n",
    "             label=\"Cross-validation score\")\n",
    "\n",
    "    plt.legend(loc=\"best\")\n",
    "    return plt"
   ]
  },
  {
   "cell_type": "code",
   "execution_count": 131,
   "metadata": {},
   "outputs": [
    {
     "data": {
      "text/plain": [
       "<bound method BaseEstimator.get_params of RandomForestRegressor(bootstrap=True, ccp_alpha=0.0, criterion='mse',\n",
       "                      max_depth=None, max_features='auto', max_leaf_nodes=None,\n",
       "                      max_samples=None, min_impurity_decrease=0.0,\n",
       "                      min_impurity_split=None, min_samples_leaf=1,\n",
       "                      min_samples_split=2, min_weight_fraction_leaf=0.0,\n",
       "                      n_estimators=100, n_jobs=None, oob_score=False,\n",
       "                      random_state=None, verbose=0, warm_start=False)>"
      ]
     },
     "execution_count": 131,
     "metadata": {},
     "output_type": "execute_result"
    }
   ],
   "source": [
    "from sklearn.ensemble import RandomForestRegressor\n",
    "rf=RandomForestRegressor()\n",
    "rf.get_params"
   ]
  },
  {
   "cell_type": "code",
   "execution_count": 132,
   "metadata": {},
   "outputs": [],
   "source": [
    "# #creating parameter grid for random search\n",
    "# grid_forest_1={'criterion':['mse','mae'],\n",
    "#       'n_estimators':np.arange(5,100,10),\n",
    "#       'max_depth':np.arange(2,7,1),\n",
    "#       'min_samples_split':np.arange(0.01,0.1,0.01),\n",
    "#       'max_features':['log2','sqrt','auto'],    \n",
    "#       'min_weight_fraction_leaf':np.arange(0.001,0.25,0.05)\n",
    "# }\n",
    "\n",
    "# rf_random=RandomizedSearchCV(estimator=rf,param_distributions=grid_forest_1,n_iter=500,n_jobs=-1,cv=3,verbose=1,random_state=1)\n",
    "\n",
    "\n",
    "# rf_random.fit(x_train,y_train)\n"
   ]
  },
  {
   "cell_type": "code",
   "execution_count": 38,
   "metadata": {},
   "outputs": [
    {
     "data": {
      "text/plain": [
       "136961.3242877295"
      ]
     },
     "execution_count": 38,
     "metadata": {},
     "output_type": "execute_result"
    }
   ],
   "source": [
    "# rf_random=rf_random.best_estimator_\n",
    "# np.sqrt(mean_squared_error(rf_random.predict(x_test),y_test))"
   ]
  },
  {
   "cell_type": "code",
   "execution_count": 39,
   "metadata": {},
   "outputs": [
    {
     "data": {
      "text/html": [
       "<div>\n",
       "<style scoped>\n",
       "    .dataframe tbody tr th:only-of-type {\n",
       "        vertical-align: middle;\n",
       "    }\n",
       "\n",
       "    .dataframe tbody tr th {\n",
       "        vertical-align: top;\n",
       "    }\n",
       "\n",
       "    .dataframe thead th {\n",
       "        text-align: right;\n",
       "    }\n",
       "</style>\n",
       "<table border=\"1\" class=\"dataframe\">\n",
       "  <thead>\n",
       "    <tr style=\"text-align: right;\">\n",
       "      <th></th>\n",
       "      <th>Model</th>\n",
       "      <th>vehicle_age</th>\n",
       "      <th>km_driven</th>\n",
       "      <th>fuel_CNG</th>\n",
       "      <th>fuel_Diesel</th>\n",
       "      <th>fuel_LPG</th>\n",
       "      <th>fuel_Petrol</th>\n",
       "      <th>transmission_Automatic</th>\n",
       "      <th>transmission_Manual</th>\n",
       "      <th>owner_First Owner</th>\n",
       "      <th>owner_Fourth &amp; Above Owner</th>\n",
       "      <th>owner_Second Owner</th>\n",
       "      <th>owner_Test Drive Car</th>\n",
       "      <th>owner_Third Owner</th>\n",
       "      <th>seller_type_Dealer</th>\n",
       "      <th>seller_type_Individual</th>\n",
       "      <th>seller_type_Trustmark Dealer</th>\n",
       "      <th>outlier_flag_no_outlier</th>\n",
       "      <th>outlier_flag_o_km_driven</th>\n",
       "      <th>outlier_flag_o_vehicle_age</th>\n",
       "    </tr>\n",
       "  </thead>\n",
       "  <tbody>\n",
       "    <tr>\n",
       "      <td>3709</td>\n",
       "      <td>398801.455882</td>\n",
       "      <td>11</td>\n",
       "      <td>67580</td>\n",
       "      <td>0</td>\n",
       "      <td>0</td>\n",
       "      <td>0</td>\n",
       "      <td>1</td>\n",
       "      <td>0</td>\n",
       "      <td>1</td>\n",
       "      <td>0</td>\n",
       "      <td>0</td>\n",
       "      <td>1</td>\n",
       "      <td>0</td>\n",
       "      <td>0</td>\n",
       "      <td>0</td>\n",
       "      <td>1</td>\n",
       "      <td>0</td>\n",
       "      <td>1</td>\n",
       "      <td>0</td>\n",
       "      <td>0</td>\n",
       "    </tr>\n",
       "    <tr>\n",
       "      <td>554</td>\n",
       "      <td>495615.375000</td>\n",
       "      <td>3</td>\n",
       "      <td>46507</td>\n",
       "      <td>0</td>\n",
       "      <td>1</td>\n",
       "      <td>0</td>\n",
       "      <td>0</td>\n",
       "      <td>0</td>\n",
       "      <td>1</td>\n",
       "      <td>1</td>\n",
       "      <td>0</td>\n",
       "      <td>0</td>\n",
       "      <td>0</td>\n",
       "      <td>0</td>\n",
       "      <td>0</td>\n",
       "      <td>0</td>\n",
       "      <td>1</td>\n",
       "      <td>1</td>\n",
       "      <td>0</td>\n",
       "      <td>0</td>\n",
       "    </tr>\n",
       "    <tr>\n",
       "      <td>2365</td>\n",
       "      <td>260750.000000</td>\n",
       "      <td>9</td>\n",
       "      <td>80000</td>\n",
       "      <td>0</td>\n",
       "      <td>1</td>\n",
       "      <td>0</td>\n",
       "      <td>0</td>\n",
       "      <td>0</td>\n",
       "      <td>1</td>\n",
       "      <td>1</td>\n",
       "      <td>0</td>\n",
       "      <td>0</td>\n",
       "      <td>0</td>\n",
       "      <td>0</td>\n",
       "      <td>0</td>\n",
       "      <td>1</td>\n",
       "      <td>0</td>\n",
       "      <td>1</td>\n",
       "      <td>0</td>\n",
       "      <td>0</td>\n",
       "    </tr>\n",
       "    <tr>\n",
       "      <td>1687</td>\n",
       "      <td>657295.083165</td>\n",
       "      <td>2</td>\n",
       "      <td>5000</td>\n",
       "      <td>0</td>\n",
       "      <td>1</td>\n",
       "      <td>0</td>\n",
       "      <td>0</td>\n",
       "      <td>0</td>\n",
       "      <td>1</td>\n",
       "      <td>1</td>\n",
       "      <td>0</td>\n",
       "      <td>0</td>\n",
       "      <td>0</td>\n",
       "      <td>0</td>\n",
       "      <td>0</td>\n",
       "      <td>1</td>\n",
       "      <td>0</td>\n",
       "      <td>1</td>\n",
       "      <td>0</td>\n",
       "      <td>0</td>\n",
       "    </tr>\n",
       "    <tr>\n",
       "      <td>89</td>\n",
       "      <td>283088.235294</td>\n",
       "      <td>9</td>\n",
       "      <td>110000</td>\n",
       "      <td>0</td>\n",
       "      <td>0</td>\n",
       "      <td>0</td>\n",
       "      <td>1</td>\n",
       "      <td>0</td>\n",
       "      <td>1</td>\n",
       "      <td>0</td>\n",
       "      <td>0</td>\n",
       "      <td>0</td>\n",
       "      <td>0</td>\n",
       "      <td>1</td>\n",
       "      <td>0</td>\n",
       "      <td>1</td>\n",
       "      <td>0</td>\n",
       "      <td>1</td>\n",
       "      <td>0</td>\n",
       "      <td>0</td>\n",
       "    </tr>\n",
       "  </tbody>\n",
       "</table>\n",
       "</div>"
      ],
      "text/plain": [
       "              Model  vehicle_age  km_driven  fuel_CNG  fuel_Diesel  fuel_LPG  \\\n",
       "3709  398801.455882           11      67580         0            0         0   \n",
       "554   495615.375000            3      46507         0            1         0   \n",
       "2365  260750.000000            9      80000         0            1         0   \n",
       "1687  657295.083165            2       5000         0            1         0   \n",
       "89    283088.235294            9     110000         0            0         0   \n",
       "\n",
       "      fuel_Petrol  transmission_Automatic  transmission_Manual  \\\n",
       "3709            1                       0                    1   \n",
       "554             0                       0                    1   \n",
       "2365            0                       0                    1   \n",
       "1687            0                       0                    1   \n",
       "89              1                       0                    1   \n",
       "\n",
       "      owner_First Owner  owner_Fourth & Above Owner  owner_Second Owner  \\\n",
       "3709                  0                           0                   1   \n",
       "554                   1                           0                   0   \n",
       "2365                  1                           0                   0   \n",
       "1687                  1                           0                   0   \n",
       "89                    0                           0                   0   \n",
       "\n",
       "      owner_Test Drive Car  owner_Third Owner  seller_type_Dealer  \\\n",
       "3709                     0                  0                   0   \n",
       "554                      0                  0                   0   \n",
       "2365                     0                  0                   0   \n",
       "1687                     0                  0                   0   \n",
       "89                       0                  1                   0   \n",
       "\n",
       "      seller_type_Individual  seller_type_Trustmark Dealer  \\\n",
       "3709                       1                             0   \n",
       "554                        0                             1   \n",
       "2365                       1                             0   \n",
       "1687                       1                             0   \n",
       "89                         1                             0   \n",
       "\n",
       "      outlier_flag_no_outlier  outlier_flag_o_km_driven  \\\n",
       "3709                        1                         0   \n",
       "554                         1                         0   \n",
       "2365                        1                         0   \n",
       "1687                        1                         0   \n",
       "89                          1                         0   \n",
       "\n",
       "      outlier_flag_o_vehicle_age  \n",
       "3709                           0  \n",
       "554                            0  \n",
       "2365                           0  \n",
       "1687                           0  \n",
       "89                             0  "
      ]
     },
     "execution_count": 39,
     "metadata": {},
     "output_type": "execute_result"
    }
   ],
   "source": [
    "x_train.head()"
   ]
  },
  {
   "cell_type": "code",
   "execution_count": 51,
   "metadata": {},
   "outputs": [
    {
     "name": "stdout",
     "output_type": "stream",
     "text": [
      "['Model', 'vehicle_age', 'km_driven', 'fuel', 'transmission', 'Class', 'owner', 'seller_type']\n"
     ]
    }
   ],
   "source": [
    "print(x)"
   ]
  },
  {
   "cell_type": "code",
   "execution_count": 212,
   "metadata": {},
   "outputs": [],
   "source": [
    "def predict_price(Model,vehicle_age,km_driven,fuel,transmission,owner,seller_type):\n",
    "    col=['Model', 'vehicle_age', 'km_driven', 'fuel', 'transmission', 'owner', 'seller_type']\n",
    "    data=[Model, vehicle_age, km_driven, fuel, transmission, owner, seller_type]\n",
    "    predict_df=pd.DataFrame(data, columns = col)\n",
    "    return predict_df  #lr_clf.predict([x])[0]"
   ]
  },
  {
   "cell_type": "code",
   "execution_count": 90,
   "metadata": {},
   "outputs": [],
   "source": [
    "Model='i20'\n",
    "vehicle_age=8\n",
    "km_driven=50000\n",
    "fuel='Petrol'\n",
    "transmission='Manual'\n",
    "owner='First Owner'\n",
    "seller_type='Individual'\n"
   ]
  },
  {
   "cell_type": "code",
   "execution_count": 91,
   "metadata": {},
   "outputs": [
    {
     "data": {
      "text/plain": [
       "336323.06153846154"
      ]
     },
     "execution_count": 91,
     "metadata": {},
     "output_type": "execute_result"
    }
   ],
   "source": [
    "col=['Model', 'vehicle_age', 'km_driven', 'fuel', 'transmission', 'owner', 'seller_type']\n",
    "data=[[Model,vehicle_age,km_driven,fuel,transmission,owner,seller_type]]\n",
    "predict_df=pd.DataFrame(data, columns = col)\n",
    "for col in ['vehicle_age','km_driven']:\n",
    "    fence_low=iqr_dict[col+'_low']\n",
    "    fence_high=iqr_dict[col+'_high']\n",
    "    predict_df.loc[((predict_df[col] < fence_low) | (predict_df[col] > fence_high)),'outlier_flag']='o_'+col\n",
    "predict_df['outlier_flag'].fillna(value='no_outlier',inplace=True)\n",
    "predict_df=te.transform(predict_df)\n",
    "predict_df=pd.get_dummies(predict_df)\n",
    "missing=(set(x_train_cols)-set(predict_df))\n",
    "for strn in missing:\n",
    "    predict_df[strn]=0\n",
    "#predict_df[X]=1#df[x].iloc[0,:].values\n",
    "grid_search_rf.predict(predict_df)[0]"
   ]
  },
  {
   "cell_type": "code",
   "execution_count": 94,
   "metadata": {},
   "outputs": [
    {
     "data": {
      "text/plain": [
       "['800',\n",
       " 13,\n",
       " 70000,\n",
       " 'Petrol',\n",
       " 'Manual',\n",
       " 'hatchback',\n",
       " 'First Owner',\n",
       " 'Individual']"
      ]
     },
     "execution_count": 94,
     "metadata": {},
     "output_type": "execute_result"
    }
   ],
   "source": [
    "data"
   ]
  },
  {
   "cell_type": "code",
   "execution_count": 97,
   "metadata": {},
   "outputs": [
    {
     "data": {
      "text/html": [
       "<div>\n",
       "<style scoped>\n",
       "    .dataframe tbody tr th:only-of-type {\n",
       "        vertical-align: middle;\n",
       "    }\n",
       "\n",
       "    .dataframe tbody tr th {\n",
       "        vertical-align: top;\n",
       "    }\n",
       "\n",
       "    .dataframe thead th {\n",
       "        text-align: right;\n",
       "    }\n",
       "</style>\n",
       "<table border=\"1\" class=\"dataframe\">\n",
       "  <thead>\n",
       "    <tr style=\"text-align: right;\">\n",
       "      <th></th>\n",
       "      <th>Model</th>\n",
       "      <th>vehicle_age</th>\n",
       "      <th>km_driven</th>\n",
       "      <th>fuel</th>\n",
       "      <th>transmission</th>\n",
       "      <th>Class</th>\n",
       "      <th>owner</th>\n",
       "      <th>seller_type</th>\n",
       "    </tr>\n",
       "  </thead>\n",
       "  <tbody>\n",
       "    <tr>\n",
       "      <td>0</td>\n",
       "      <td>800</td>\n",
       "      <td>13</td>\n",
       "      <td>70000</td>\n",
       "      <td>Petrol</td>\n",
       "      <td>Manual</td>\n",
       "      <td>hatchback</td>\n",
       "      <td>First Owner</td>\n",
       "      <td>Individual</td>\n",
       "    </tr>\n",
       "  </tbody>\n",
       "</table>\n",
       "</div>"
      ],
      "text/plain": [
       "  Model  vehicle_age  km_driven    fuel transmission      Class        owner  \\\n",
       "0   800           13      70000  Petrol       Manual  hatchback  First Owner   \n",
       "\n",
       "  seller_type  \n",
       "0  Individual  "
      ]
     },
     "execution_count": 97,
     "metadata": {},
     "output_type": "execute_result"
    }
   ],
   "source": [
    "# data =[list(df[x].iloc[0,:].values)]\n",
    "  \n",
    "# # Create the pandas DataFrame \n",
    "# xyz = pd.DataFrame(data, columns = X)\n",
    "# xyz"
   ]
  },
  {
   "cell_type": "code",
   "execution_count": 210,
   "metadata": {},
   "outputs": [
    {
     "data": {
      "text/plain": [
       "109318.24671115616"
      ]
     },
     "execution_count": 210,
     "metadata": {},
     "output_type": "execute_result"
    }
   ],
   "source": [
    "without_class=['Model', 'vehicle_age', 'km_driven', 'fuel_CNG', 'fuel_Diesel',\n",
    "       'fuel_LPG', 'fuel_Petrol', 'transmission_Automatic',\n",
    "       'transmission_Manual', 'owner_First Owner',\n",
    "       'owner_Fourth & Above Owner', 'owner_Second Owner',\n",
    "       'owner_Test Drive Car', 'owner_Third Owner', 'seller_type_Dealer',\n",
    "       'seller_type_Individual', 'seller_type_Trustmark Dealer',\n",
    "       'outlier_flag_no_outlier', 'outlier_flag_o_km_driven',\n",
    "       'outlier_flag_o_vehicle_age']\n",
    "\n",
    "rf_1=RandomForestRegressor(criterion='mae',max_depth=8,max_features='auto',min_impurity_split=0.001,min_weight_fraction_leaf=0.001,n_estimators=70,random_state=999)\n",
    "rf_1.fit(x_train,y_train)\n",
    "np.sqrt(mean_squared_error(rf_1.predict(x_test),y_test))"
   ]
  },
  {
   "cell_type": "code",
   "execution_count": null,
   "metadata": {},
   "outputs": [],
   "source": []
  },
  {
   "cell_type": "code",
   "execution_count": null,
   "metadata": {},
   "outputs": [],
   "source": []
  },
  {
   "cell_type": "code",
   "execution_count": 208,
   "metadata": {},
   "outputs": [
    {
     "data": {
      "text/plain": [
       "<module 'matplotlib.pyplot' from 'C:\\\\Users\\\\prana\\\\anaconda3\\\\lib\\\\site-packages\\\\matplotlib\\\\pyplot.py'>"
      ]
     },
     "execution_count": 208,
     "metadata": {},
     "output_type": "execute_result"
    },
    {
     "data": {
      "image/png": "[encoded data removed]",
      "text/plain": [
       "<Figure size 432x288 with 1 Axes>"
      ]
     },
     "metadata": {
      "needs_background": "light"
     },
     "output_type": "display_data"
    }
   ],
   "source": [
    "plot_learning_curve(estimator=rf_random,title='RF_learning_curves',X=x_train,y=y_train,ylim=(0.5,1.05),cv=5)"
   ]
  },
  {
   "cell_type": "code",
   "execution_count": 40,
   "metadata": {},
   "outputs": [
    {
     "data": {
      "text/plain": [
       "RandomForestRegressor(bootstrap=True, ccp_alpha=0.0, criterion='mae',\n",
       "                      max_depth=6, max_features='auto', max_leaf_nodes=None,\n",
       "                      max_samples=None, min_impurity_decrease=0.0,\n",
       "                      min_impurity_split=None, min_samples_leaf=1,\n",
       "                      min_samples_split=0.01, min_weight_fraction_leaf=0.001,\n",
       "                      n_estimators=65, n_jobs=None, oob_score=False,\n",
       "                      random_state=None, verbose=0, warm_start=False)"
      ]
     },
     "execution_count": 40,
     "metadata": {},
     "output_type": "execute_result"
    }
   ],
   "source": [
    "rf_random"
   ]
  },
  {
   "cell_type": "code",
   "execution_count": 133,
   "metadata": {},
   "outputs": [],
   "source": [
    "grid_forest_2={'criterion':['mae'],\n",
    "      'n_estimators':np.arange(60,80,5),\n",
    "      'max_depth':(6,7,8),\n",
    "      'min_samples_split':np.arange(0.001,0.01,0.008),\n",
    "      'max_features':['auto'],    \n",
    "      'min_weight_fraction_leaf':np.arange(0.0001,0.01,0.001)\n",
    "}"
   ]
  },
  {
   "cell_type": "code",
   "execution_count": 134,
   "metadata": {},
   "outputs": [],
   "source": [
    "rf=RandomForestRegressor()\n",
    "grid_search_rf=GridSearchCV(estimator=rf,param_grid = grid_forest_2,cv=3,n_jobs=-1,verbose=1)"
   ]
  },
  {
   "cell_type": "code",
   "execution_count": 135,
   "metadata": {},
   "outputs": [
    {
     "name": "stdout",
     "output_type": "stream",
     "text": [
      "Fitting 3 folds for each of 240 candidates, totalling 720 fits\n"
     ]
    },
    {
     "name": "stderr",
     "output_type": "stream",
     "text": [
      "[Parallel(n_jobs=-1)]: Using backend LokyBackend with 12 concurrent workers.\n",
      "[Parallel(n_jobs=-1)]: Done  26 tasks      | elapsed:   18.1s\n",
      "[Parallel(n_jobs=-1)]: Done 176 tasks      | elapsed:  1.6min\n",
      "[Parallel(n_jobs=-1)]: Done 426 tasks      | elapsed:  3.9min\n",
      "[Parallel(n_jobs=-1)]: Done 720 out of 720 | elapsed:  6.6min finished\n"
     ]
    },
    {
     "data": {
      "text/plain": [
       "{'criterion': 'mae',\n",
       " 'max_depth': 8,\n",
       " 'max_features': 'auto',\n",
       " 'min_samples_split': 0.001,\n",
       " 'min_weight_fraction_leaf': 0.0021,\n",
       " 'n_estimators': 75}"
      ]
     },
     "execution_count": 135,
     "metadata": {},
     "output_type": "execute_result"
    }
   ],
   "source": [
    "grid_search_rf.fit(x_train,y_train)\n",
    "grid_search_rf.best_params_"
   ]
  },
  {
   "cell_type": "code",
   "execution_count": 136,
   "metadata": {},
   "outputs": [
    {
     "data": {
      "text/plain": [
       "RandomForestRegressor(bootstrap=True, ccp_alpha=0.0, criterion='mae',\n",
       "                      max_depth=8, max_features='auto', max_leaf_nodes=None,\n",
       "                      max_samples=None, min_impurity_decrease=0.0,\n",
       "                      min_impurity_split=None, min_samples_leaf=1,\n",
       "                      min_samples_split=0.001, min_weight_fraction_leaf=0.0021,\n",
       "                      n_estimators=75, n_jobs=None, oob_score=False,\n",
       "                      random_state=None, verbose=0, warm_start=False)"
      ]
     },
     "execution_count": 136,
     "metadata": {},
     "output_type": "execute_result"
    }
   ],
   "source": [
    "grid_search_rf=grid_search_rf.best_estimator_\n",
    "grid_search_rf.fit(x_train,y_train)"
   ]
  },
  {
   "cell_type": "code",
   "execution_count": 137,
   "metadata": {},
   "outputs": [
    {
     "data": {
      "text/plain": [
       "<module 'matplotlib.pyplot' from 'C:\\\\Users\\\\prana\\\\anaconda3\\\\lib\\\\site-packages\\\\matplotlib\\\\pyplot.py'>"
      ]
     },
     "execution_count": 137,
     "metadata": {},
     "output_type": "execute_result"
    },
    {
     "data": {
      "image/png": "[encoded data removed]",
      "text/plain": [
       "<Figure size 432x288 with 1 Axes>"
      ]
     },
     "metadata": {
      "needs_background": "light"
     },
     "output_type": "display_data"
    }
   ],
   "source": [
    "plot_learning_curve(estimator=grid_search_rf,title='RF_learning_curves',X=x_train,y=y_train,ylim=(0.5,1.05),cv=5)"
   ]
  },
  {
   "cell_type": "code",
   "execution_count": 142,
   "metadata": {},
   "outputs": [],
   "source": [
    "with open('car_prices_model.pickle','wb') as f:\n",
    "    pickle.dump(grid_search_rf,f)"
   ]
  },
  {
   "cell_type": "code",
   "execution_count": 138,
   "metadata": {},
   "outputs": [
    {
     "data": {
      "text/plain": [
       "117491.40385575511"
      ]
     },
     "execution_count": 138,
     "metadata": {},
     "output_type": "execute_result"
    }
   ],
   "source": [
    "np.sqrt(mean_squared_error(grid_search_rf.predict(x_test),y_test))"
   ]
  },
  {
   "cell_type": "code",
   "execution_count": 139,
   "metadata": {},
   "outputs": [
    {
     "data": {
      "text/plain": [
       "0.8883265649457868"
      ]
     },
     "execution_count": 139,
     "metadata": {},
     "output_type": "execute_result"
    }
   ],
   "source": [
    "grid_search_rf.score(x_test,y_test)"
   ]
  },
  {
   "cell_type": "code",
   "execution_count": 140,
   "metadata": {},
   "outputs": [
    {
     "data": {
      "text/plain": [
       "20.21732602580417"
      ]
     },
     "execution_count": 140,
     "metadata": {},
     "output_type": "execute_result"
    }
   ],
   "source": [
    "mean_absolute_percentage_error(y_test,grid_search_rf.predict(x_test))"
   ]
  },
  {
   "cell_type": "code",
   "execution_count": 141,
   "metadata": {},
   "outputs": [
    {
     "data": {
      "text/plain": [
       "0.8883265649457868"
      ]
     },
     "execution_count": 141,
     "metadata": {},
     "output_type": "execute_result"
    }
   ],
   "source": [
    "r2_score(y_test,grid_search_rf.predict(x_test))"
   ]
  },
  {
   "cell_type": "code",
   "execution_count": null,
   "metadata": {},
   "outputs": [],
   "source": []
  }
 ],
 "metadata": {
  "kernelspec": {
   "display_name": "Python 3",
   "language": "python",
   "name": "python3"
  },
  "language_info": {
   "codemirror_mode": {
    "name": "ipython",
    "version": 3
   },
   "file_extension": ".py",
   "mimetype": "text/x-python",
   "name": "python",
   "nbconvert_exporter": "python",
   "pygments_lexer": "ipython3",
   "version": "3.7.6"
  }
 },
 "nbformat": 4,
 "nbformat_minor": 4
}
